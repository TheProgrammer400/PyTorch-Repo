{
 "cells": [
  {
   "cell_type": "markdown",
   "id": "9f7d858a",
   "metadata": {},
   "source": [
    "# Building Rice Type Classification Model\n"
   ]
  },
  {
   "cell_type": "code",
   "execution_count": 1,
   "id": "87cc28a0",
   "metadata": {},
   "outputs": [],
   "source": [
    "import torch\n",
    "import torch.nn as nn\n",
    "from torch.utils.data import Dataset, DataLoader\n",
    "from torchsummary import summary\n",
    "from sklearn.model_selection import train_test_split\n",
    "from sklearn.metrics import accuracy_score\n",
    "import matplotlib.pyplot as plt\n",
    "import pandas as pd\n",
    "import numpy as np"
   ]
  },
  {
   "cell_type": "code",
   "execution_count": 2,
   "id": "3bd282da",
   "metadata": {},
   "outputs": [
    {
     "data": {
      "text/plain": [
       "'cuda'"
      ]
     },
     "execution_count": 2,
     "metadata": {},
     "output_type": "execute_result"
    }
   ],
   "source": [
    "device = \"cuda\" if torch.cuda.is_available() else \"cpu\"\n",
    "device"
   ]
  },
  {
   "cell_type": "code",
   "execution_count": 3,
   "id": "a3856211",
   "metadata": {},
   "outputs": [
    {
     "data": {
      "text/html": [
       "<div>\n",
       "<style scoped>\n",
       "    .dataframe tbody tr th:only-of-type {\n",
       "        vertical-align: middle;\n",
       "    }\n",
       "\n",
       "    .dataframe tbody tr th {\n",
       "        vertical-align: top;\n",
       "    }\n",
       "\n",
       "    .dataframe thead th {\n",
       "        text-align: right;\n",
       "    }\n",
       "</style>\n",
       "<table border=\"1\" class=\"dataframe\">\n",
       "  <thead>\n",
       "    <tr style=\"text-align: right;\">\n",
       "      <th></th>\n",
       "      <th>id</th>\n",
       "      <th>Area</th>\n",
       "      <th>MajorAxisLength</th>\n",
       "      <th>MinorAxisLength</th>\n",
       "      <th>Eccentricity</th>\n",
       "      <th>ConvexArea</th>\n",
       "      <th>EquivDiameter</th>\n",
       "      <th>Extent</th>\n",
       "      <th>Perimeter</th>\n",
       "      <th>Roundness</th>\n",
       "      <th>AspectRation</th>\n",
       "      <th>Class</th>\n",
       "    </tr>\n",
       "  </thead>\n",
       "  <tbody>\n",
       "    <tr>\n",
       "      <th>0</th>\n",
       "      <td>1</td>\n",
       "      <td>4537</td>\n",
       "      <td>92.229316</td>\n",
       "      <td>64.012769</td>\n",
       "      <td>0.719916</td>\n",
       "      <td>4677</td>\n",
       "      <td>76.004525</td>\n",
       "      <td>0.657536</td>\n",
       "      <td>273.085</td>\n",
       "      <td>0.764510</td>\n",
       "      <td>1.440796</td>\n",
       "      <td>1</td>\n",
       "    </tr>\n",
       "    <tr>\n",
       "      <th>1</th>\n",
       "      <td>2</td>\n",
       "      <td>2872</td>\n",
       "      <td>74.691881</td>\n",
       "      <td>51.400454</td>\n",
       "      <td>0.725553</td>\n",
       "      <td>3015</td>\n",
       "      <td>60.471018</td>\n",
       "      <td>0.713009</td>\n",
       "      <td>208.317</td>\n",
       "      <td>0.831658</td>\n",
       "      <td>1.453137</td>\n",
       "      <td>1</td>\n",
       "    </tr>\n",
       "    <tr>\n",
       "      <th>2</th>\n",
       "      <td>3</td>\n",
       "      <td>3048</td>\n",
       "      <td>76.293164</td>\n",
       "      <td>52.043491</td>\n",
       "      <td>0.731211</td>\n",
       "      <td>3132</td>\n",
       "      <td>62.296341</td>\n",
       "      <td>0.759153</td>\n",
       "      <td>210.012</td>\n",
       "      <td>0.868434</td>\n",
       "      <td>1.465950</td>\n",
       "      <td>1</td>\n",
       "    </tr>\n",
       "    <tr>\n",
       "      <th>3</th>\n",
       "      <td>4</td>\n",
       "      <td>3073</td>\n",
       "      <td>77.033628</td>\n",
       "      <td>51.928487</td>\n",
       "      <td>0.738639</td>\n",
       "      <td>3157</td>\n",
       "      <td>62.551300</td>\n",
       "      <td>0.783529</td>\n",
       "      <td>210.657</td>\n",
       "      <td>0.870203</td>\n",
       "      <td>1.483456</td>\n",
       "      <td>1</td>\n",
       "    </tr>\n",
       "    <tr>\n",
       "      <th>4</th>\n",
       "      <td>5</td>\n",
       "      <td>3693</td>\n",
       "      <td>85.124785</td>\n",
       "      <td>56.374021</td>\n",
       "      <td>0.749282</td>\n",
       "      <td>3802</td>\n",
       "      <td>68.571668</td>\n",
       "      <td>0.769375</td>\n",
       "      <td>230.332</td>\n",
       "      <td>0.874743</td>\n",
       "      <td>1.510000</td>\n",
       "      <td>1</td>\n",
       "    </tr>\n",
       "  </tbody>\n",
       "</table>\n",
       "</div>"
      ],
      "text/plain": [
       "   id  Area  MajorAxisLength  MinorAxisLength  Eccentricity  ConvexArea  \\\n",
       "0   1  4537        92.229316        64.012769      0.719916        4677   \n",
       "1   2  2872        74.691881        51.400454      0.725553        3015   \n",
       "2   3  3048        76.293164        52.043491      0.731211        3132   \n",
       "3   4  3073        77.033628        51.928487      0.738639        3157   \n",
       "4   5  3693        85.124785        56.374021      0.749282        3802   \n",
       "\n",
       "   EquivDiameter    Extent  Perimeter  Roundness  AspectRation  Class  \n",
       "0      76.004525  0.657536    273.085   0.764510      1.440796      1  \n",
       "1      60.471018  0.713009    208.317   0.831658      1.453137      1  \n",
       "2      62.296341  0.759153    210.012   0.868434      1.465950      1  \n",
       "3      62.551300  0.783529    210.657   0.870203      1.483456      1  \n",
       "4      68.571668  0.769375    230.332   0.874743      1.510000      1  "
      ]
     },
     "execution_count": 3,
     "metadata": {},
     "output_type": "execute_result"
    }
   ],
   "source": [
    "data_df = pd.read_csv(\"rice_classification/riceClassification.csv\")\n",
    "data_df.head()"
   ]
  },
  {
   "cell_type": "code",
   "execution_count": 4,
   "id": "c90a7c4c",
   "metadata": {},
   "outputs": [
    {
     "data": {
      "text/html": [
       "<div>\n",
       "<style scoped>\n",
       "    .dataframe tbody tr th:only-of-type {\n",
       "        vertical-align: middle;\n",
       "    }\n",
       "\n",
       "    .dataframe tbody tr th {\n",
       "        vertical-align: top;\n",
       "    }\n",
       "\n",
       "    .dataframe thead th {\n",
       "        text-align: right;\n",
       "    }\n",
       "</style>\n",
       "<table border=\"1\" class=\"dataframe\">\n",
       "  <thead>\n",
       "    <tr style=\"text-align: right;\">\n",
       "      <th></th>\n",
       "      <th>Area</th>\n",
       "      <th>MajorAxisLength</th>\n",
       "      <th>MinorAxisLength</th>\n",
       "      <th>Eccentricity</th>\n",
       "      <th>ConvexArea</th>\n",
       "      <th>EquivDiameter</th>\n",
       "      <th>Extent</th>\n",
       "      <th>Perimeter</th>\n",
       "      <th>Roundness</th>\n",
       "      <th>AspectRation</th>\n",
       "      <th>Class</th>\n",
       "    </tr>\n",
       "  </thead>\n",
       "  <tbody>\n",
       "    <tr>\n",
       "      <th>0</th>\n",
       "      <td>0.444368</td>\n",
       "      <td>0.503404</td>\n",
       "      <td>0.775435</td>\n",
       "      <td>0.744658</td>\n",
       "      <td>0.424873</td>\n",
       "      <td>0.666610</td>\n",
       "      <td>0.741661</td>\n",
       "      <td>0.537029</td>\n",
       "      <td>0.844997</td>\n",
       "      <td>0.368316</td>\n",
       "      <td>1.0</td>\n",
       "    </tr>\n",
       "    <tr>\n",
       "      <th>1</th>\n",
       "      <td>0.281293</td>\n",
       "      <td>0.407681</td>\n",
       "      <td>0.622653</td>\n",
       "      <td>0.750489</td>\n",
       "      <td>0.273892</td>\n",
       "      <td>0.530370</td>\n",
       "      <td>0.804230</td>\n",
       "      <td>0.409661</td>\n",
       "      <td>0.919215</td>\n",
       "      <td>0.371471</td>\n",
       "      <td>1.0</td>\n",
       "    </tr>\n",
       "    <tr>\n",
       "      <th>2</th>\n",
       "      <td>0.298531</td>\n",
       "      <td>0.416421</td>\n",
       "      <td>0.630442</td>\n",
       "      <td>0.756341</td>\n",
       "      <td>0.284520</td>\n",
       "      <td>0.546380</td>\n",
       "      <td>0.856278</td>\n",
       "      <td>0.412994</td>\n",
       "      <td>0.959862</td>\n",
       "      <td>0.374747</td>\n",
       "      <td>1.0</td>\n",
       "    </tr>\n",
       "    <tr>\n",
       "      <th>3</th>\n",
       "      <td>0.300979</td>\n",
       "      <td>0.420463</td>\n",
       "      <td>0.629049</td>\n",
       "      <td>0.764024</td>\n",
       "      <td>0.286791</td>\n",
       "      <td>0.548616</td>\n",
       "      <td>0.883772</td>\n",
       "      <td>0.414262</td>\n",
       "      <td>0.961818</td>\n",
       "      <td>0.379222</td>\n",
       "      <td>1.0</td>\n",
       "    </tr>\n",
       "    <tr>\n",
       "      <th>4</th>\n",
       "      <td>0.361704</td>\n",
       "      <td>0.464626</td>\n",
       "      <td>0.682901</td>\n",
       "      <td>0.775033</td>\n",
       "      <td>0.345385</td>\n",
       "      <td>0.601418</td>\n",
       "      <td>0.867808</td>\n",
       "      <td>0.452954</td>\n",
       "      <td>0.966836</td>\n",
       "      <td>0.386007</td>\n",
       "      <td>1.0</td>\n",
       "    </tr>\n",
       "  </tbody>\n",
       "</table>\n",
       "</div>"
      ],
      "text/plain": [
       "       Area  MajorAxisLength  MinorAxisLength  Eccentricity  ConvexArea  \\\n",
       "0  0.444368         0.503404         0.775435      0.744658    0.424873   \n",
       "1  0.281293         0.407681         0.622653      0.750489    0.273892   \n",
       "2  0.298531         0.416421         0.630442      0.756341    0.284520   \n",
       "3  0.300979         0.420463         0.629049      0.764024    0.286791   \n",
       "4  0.361704         0.464626         0.682901      0.775033    0.345385   \n",
       "\n",
       "   EquivDiameter    Extent  Perimeter  Roundness  AspectRation  Class  \n",
       "0       0.666610  0.741661   0.537029   0.844997      0.368316    1.0  \n",
       "1       0.530370  0.804230   0.409661   0.919215      0.371471    1.0  \n",
       "2       0.546380  0.856278   0.412994   0.959862      0.374747    1.0  \n",
       "3       0.548616  0.883772   0.414262   0.961818      0.379222    1.0  \n",
       "4       0.601418  0.867808   0.452954   0.966836      0.386007    1.0  "
      ]
     },
     "execution_count": 4,
     "metadata": {},
     "output_type": "execute_result"
    }
   ],
   "source": [
    "for column in data_df.copy().columns:\n",
    "    data_df[column] = data_df[column] / data_df[column].abs().max()\n",
    "\n",
    "data_df = data_df.drop([\"id\"], axis = 1)\n",
    "\n",
    "data_df.head()"
   ]
  },
  {
   "cell_type": "markdown",
   "id": "a2b639cf",
   "metadata": {},
   "source": [
    "## Prepare The Data"
   ]
  },
  {
   "cell_type": "code",
   "execution_count": 5,
   "id": "06b1fea8",
   "metadata": {},
   "outputs": [
    {
     "data": {
      "text/plain": [
       "(array([[0.44436827, 0.50340371, 0.77543522, ..., 0.5370287 , 0.844997  ,\n",
       "         0.36831616],\n",
       "        [0.28129285, 0.40768133, 0.62265269, ..., 0.40966075, 0.91921498,\n",
       "         0.37147093],\n",
       "        [0.29853085, 0.41642141, 0.63044229, ..., 0.41299402, 0.95986205,\n",
       "         0.37474651],\n",
       "        ...,\n",
       "        [0.62340842, 0.84480035, 0.64091576, ..., 0.67304935, 0.75472018,\n",
       "         0.74783024],\n",
       "        [0.58374143, 0.8263563 , 0.62355087, ..., 0.67524793, 0.70210346,\n",
       "         0.75187447],\n",
       "        [0.60078355, 0.83554818, 0.62495614, ..., 0.6658912 , 0.74305096,\n",
       "         0.7585284 ]]),\n",
       " array([1., 1., 1., ..., 0., 0., 0.]))"
      ]
     },
     "execution_count": 5,
     "metadata": {},
     "output_type": "execute_result"
    }
   ],
   "source": [
    "x = np.array(data_df.iloc[:, :-1]) # take all the rows and all the column except the last one\n",
    "y = np.array(data_df.iloc[:, -1])  # take all the rows and last column only\n",
    "\n",
    "x, y"
   ]
  },
  {
   "cell_type": "markdown",
   "id": "83c3f1d8",
   "metadata": {},
   "source": [
    "### Split The Dataset"
   ]
  },
  {
   "cell_type": "code",
   "execution_count": 6,
   "id": "82302c36",
   "metadata": {},
   "outputs": [],
   "source": [
    "x_train, x_test, y_train, y_test = train_test_split(x, y, test_size = 0.3)\n",
    "x_test, x_val, y_test, y_val = train_test_split(x_test, y_test, test_size = 0.5)"
   ]
  },
  {
   "cell_type": "code",
   "execution_count": 7,
   "id": "248871a9",
   "metadata": {},
   "outputs": [
    {
     "name": "stdout",
     "output_type": "stream",
     "text": [
      "(12729, 10)\n",
      "(2728, 10)\n",
      "(2728, 10)\n"
     ]
    }
   ],
   "source": [
    "print(x_train.shape)\n",
    "print(x_test.shape)\n",
    "print(x_val.shape)"
   ]
  },
  {
   "cell_type": "markdown",
   "id": "9bf43ee7",
   "metadata": {},
   "source": [
    "## Creating a Custom Dataset\n",
    "\n",
    "### What’s the point?\n",
    "\n",
    "Your raw data — CSV, images, audio, whatever — is just **dumb files**. PyTorch doesn’t magically know:\n",
    "- Where the features are.\n",
    "- Where the labels are.\n",
    "- How to get **one** sample at a time.\n",
    "- How many samples total.\n",
    "\n",
    "So you wrap your raw data in a **Dataset class** that does 2 things:\n",
    "1. `__getitem__()` → How to get **one** piece.\n",
    "2. `__len__()` → How many pieces total.\n",
    "\n",
    "### What problem does it solve?\n",
    "\n",
    "- Makes your data *iterable* → `for batch in DataLoader`.\n",
    "- Handles *indexing* → PyTorch knows how to grab data in batches.\n",
    "- Works with `DataLoader` to shuffle, batch, sample, and run multi-threaded loading.\n",
    "\n",
    "###  What if you don’t?\n",
    "\n",
    "Without a `Dataset`, you’d have to:\n",
    "- Manually slice batches.\n",
    "- Shuffle by hand.\n",
    "- Track indices yourself.\n",
    "- Write all the loading code.\n",
    "\n",
    "Nobody wants that. PyTorch’s `Dataset` + `DataLoader` makes life easy.\n",
    "\n",
    "### So your Dataset is just a blueprint\n",
    "\n",
    "- *Where’s the data?*\n",
    "- *How to slice out one row?*\n",
    "- *What label goes with it?*\n",
    "- *How many samples you got?*\n",
    "\n",
    "Boom. Done.\n",
    "\n",
    "### Yes, this is real life\n",
    "\n",
    "- For images → `ImageFolder` or custom Dataset.\n",
    "- For tabular → custom Dataset.\n",
    "- For text → same idea.\n",
    "- For audio, medical, video → same idea.\n",
    "\n",
    "Every serious PyTorch pipeline uses `Dataset` + `DataLoader`. It’s the backbone of the whole show.\n",
    "\n",
    "### Bottom line\n",
    "\n",
    "You define a custom Dataset because:\n",
    "- PyTorch needs to know how to read your custom data.\n",
    "- You want to batch & shuffle without headaches.\n",
    "- You don’t want to reinvent the wheel every epoch.\n",
    "\n",
    "So you build it, pass it to the `DataLoader` — your model trains happily while you sit back like a rice king. \n"
   ]
  },
  {
   "cell_type": "code",
   "execution_count": 8,
   "id": "2aae6e06",
   "metadata": {},
   "outputs": [],
   "source": [
    "class RiceDataset(Dataset):\n",
    "    def __init__(self, x, y):\n",
    "        self.x = torch.tensor(x, dtype = torch.float32).to(device)\n",
    "        self.y = torch.tensor(y, dtype = torch.float32).to(device)\n",
    "\n",
    "    def __len__(self):\n",
    "        return len(self.x)\n",
    "    \n",
    "    def __getitem__(self, index):\n",
    "        return self.x[index], self.y[index]"
   ]
  },
  {
   "cell_type": "code",
   "execution_count": 9,
   "id": "fdeb6c2b",
   "metadata": {},
   "outputs": [],
   "source": [
    "training_data = RiceDataset(x_train, y_train)\n",
    "testing_data = RiceDataset(x_test, y_test)\n",
    "validation_data = RiceDataset(x_val, y_val)"
   ]
  },
  {
   "cell_type": "markdown",
   "id": "d4656db4",
   "metadata": {},
   "source": [
    "## Create DataLoader"
   ]
  },
  {
   "cell_type": "code",
   "execution_count": 10,
   "id": "08736674",
   "metadata": {},
   "outputs": [],
   "source": [
    "BATCH_SIZE = 8\n",
    "\n",
    "training_dataloader = DataLoader(training_data, batch_size = BATCH_SIZE, shuffle = True)\n",
    "testing_dataloader = DataLoader(testing_data, batch_size = BATCH_SIZE, shuffle = False)\n",
    "validation_dataloader = DataLoader(validation_data, batch_size = BATCH_SIZE, shuffle = True)"
   ]
  },
  {
   "cell_type": "code",
   "execution_count": 11,
   "id": "14ce57ea",
   "metadata": {},
   "outputs": [
    {
     "name": "stdout",
     "output_type": "stream",
     "text": [
      "tensor([[0.6341, 0.7761, 0.7121, 0.9418, 0.6019, 0.7963, 0.6250, 0.6542, 0.8125,\n",
      "         0.6183],\n",
      "        [0.9042, 0.8844, 0.8872, 0.9227, 0.8599, 0.9509, 0.8617, 0.7666, 0.8438,\n",
      "         0.5655],\n",
      "        [0.9093, 0.8909, 0.8868, 0.9245, 0.8631, 0.9536, 0.6619, 0.7638, 0.8548,\n",
      "         0.5700],\n",
      "        [0.5655, 0.7925, 0.6292, 0.9659, 0.5384, 0.7520, 0.5566, 0.6492, 0.7358,\n",
      "         0.7145],\n",
      "        [0.6010, 0.8552, 0.6168, 0.9782, 0.5707, 0.7752, 0.7936, 0.6813, 0.7101,\n",
      "         0.7867],\n",
      "        [0.6373, 0.8157, 0.6827, 0.9580, 0.6096, 0.7983, 0.7332, 0.6732, 0.7712,\n",
      "         0.6779],\n",
      "        [0.6049, 0.8869, 0.6061, 0.9841, 0.5878, 0.7778, 0.5361, 0.7067, 0.6642,\n",
      "         0.8301],\n",
      "        [0.9383, 0.8961, 0.9140, 0.9187, 0.8928, 0.9687, 0.7354, 0.7825, 0.8404,\n",
      "         0.5563]], device='cuda:0')\n",
      "----------\n",
      "tensor([0., 0., 0., 1., 1., 1., 1., 0.], device='cuda:0')\n"
     ]
    }
   ],
   "source": [
    "# print a sample of the training data\n",
    "x_sample, y_sample = next(iter(training_dataloader))\n",
    "print(x_sample)\n",
    "print(\"----------\")\n",
    "print(y_sample)"
   ]
  },
  {
   "cell_type": "markdown",
   "id": "be06091e",
   "metadata": {},
   "source": [
    "## Create The Model of `RiceClassificationModel`"
   ]
  },
  {
   "cell_type": "code",
   "execution_count": 12,
   "id": "46c9482b",
   "metadata": {},
   "outputs": [],
   "source": [
    "class RiceClassificationModel(nn.Module):\n",
    "    def __init__(self, input_shape: int,\n",
    "                 hidden_units: int,\n",
    "                 output_shape: int):\n",
    "        \n",
    "        super().__init__()\n",
    "    \n",
    "        self.layer_block = nn.Sequential(\n",
    "            nn.Linear(in_features = input_shape, out_features = hidden_units),\n",
    "            nn.Linear(in_features = hidden_units, out_features = output_shape),\n",
    "            nn.Sigmoid()\n",
    "        )\n",
    "\n",
    "    def forward(self, x):\n",
    "        return self.layer_block(x)"
   ]
  },
  {
   "cell_type": "code",
   "execution_count": 13,
   "id": "8003c61b",
   "metadata": {},
   "outputs": [
    {
     "data": {
      "text/plain": [
       "RiceClassificationModel(\n",
       "  (layer_block): Sequential(\n",
       "    (0): Linear(in_features=10, out_features=10, bias=True)\n",
       "    (1): Linear(in_features=10, out_features=1, bias=True)\n",
       "    (2): Sigmoid()\n",
       "  )\n",
       ")"
      ]
     },
     "execution_count": 13,
     "metadata": {},
     "output_type": "execute_result"
    }
   ],
   "source": [
    "# create an instance of above model class\n",
    "torch.manual_seed(42)\n",
    "\n",
    "model_0 = RiceClassificationModel(input_shape = x_sample.shape[1],\n",
    "                                  hidden_units = 10,\n",
    "                                  output_shape = 1).to(device)\n",
    "\n",
    "model_0"
   ]
  },
  {
   "cell_type": "markdown",
   "id": "8e1ba668",
   "metadata": {},
   "source": [
    "### Define Loss Function & Optimizer"
   ]
  },
  {
   "cell_type": "code",
   "execution_count": 14,
   "id": "2604c1e3",
   "metadata": {},
   "outputs": [],
   "source": [
    "criterion = nn.BCELoss()\n",
    "optimizer = torch.optim.Adam(params = model_0.parameters(), lr = 0.001)"
   ]
  },
  {
   "cell_type": "markdown",
   "id": "0d94e4ce",
   "metadata": {},
   "source": [
    "### Create Training Loop"
   ]
  },
  {
   "cell_type": "code",
   "execution_count": 15,
   "id": "445ae5bf",
   "metadata": {},
   "outputs": [
    {
     "name": "stderr",
     "output_type": "stream",
     "text": [
      "/home/programmer/PyTorch Project/myenv/lib/python3.12/site-packages/tqdm/auto.py:21: TqdmWarning: IProgress not found. Please update jupyter and ipywidgets. See https://ipywidgets.readthedocs.io/en/stable/user_install.html\n",
      "  from .autonotebook import tqdm as notebook_tqdm\n",
      " 10%|█         | 1/10 [00:06<00:58,  6.49s/it]"
     ]
    },
    {
     "name": "stdout",
     "output_type": "stream",
     "text": [
      "Epoch: 0 | Train Loss: 0.3938588751994785 | Train Acc: 91.73994974874373 | Val Loss: 0.10214871913194656 | Val Acc: 98.75366568914956\n"
     ]
    },
    {
     "name": "stderr",
     "output_type": "stream",
     "text": [
      " 20%|██        | 2/10 [00:12<00:49,  6.19s/it]"
     ]
    },
    {
     "name": "stdout",
     "output_type": "stream",
     "text": [
      "Epoch: 1 | Train Loss: 0.0889015492642984 | Train Acc: 98.4375 | Val Loss: 0.0037377255503088236 | Val Acc: 98.71700879765396\n"
     ]
    },
    {
     "name": "stderr",
     "output_type": "stream",
     "text": [
      " 30%|███       | 3/10 [00:18<00:41,  5.97s/it]"
     ]
    },
    {
     "name": "stdout",
     "output_type": "stream",
     "text": [
      "Epoch: 2 | Train Loss: 0.05536768982520657 | Train Acc: 98.50816582914574 | Val Loss: 0.007483759429305792 | Val Acc: 98.75366568914956\n"
     ]
    },
    {
     "name": "stderr",
     "output_type": "stream",
     "text": [
      " 40%|████      | 4/10 [00:23<00:34,  5.81s/it]"
     ]
    },
    {
     "name": "stdout",
     "output_type": "stream",
     "text": [
      "Epoch: 3 | Train Loss: 0.04798024798044057 | Train Acc: 98.53172110552764 | Val Loss: 0.1311948299407959 | Val Acc: 98.71700879765396\n"
     ]
    },
    {
     "name": "stderr",
     "output_type": "stream",
     "text": [
      " 50%|█████     | 5/10 [00:29<00:29,  5.81s/it]"
     ]
    },
    {
     "name": "stdout",
     "output_type": "stream",
     "text": [
      "Epoch: 4 | Train Loss: 0.04509250677851261 | Train Acc: 98.56312814070351 | Val Loss: 0.00177427486050874 | Val Acc: 98.86363636363636\n"
     ]
    },
    {
     "name": "stderr",
     "output_type": "stream",
     "text": [
      " 60%|██████    | 6/10 [00:34<00:21,  5.40s/it]"
     ]
    },
    {
     "name": "stdout",
     "output_type": "stream",
     "text": [
      "Epoch: 5 | Train Loss: 0.043904485493986435 | Train Acc: 98.5160175879397 | Val Loss: 0.020047910511493683 | Val Acc: 98.82697947214076\n"
     ]
    },
    {
     "name": "stderr",
     "output_type": "stream",
     "text": [
      " 70%|███████   | 7/10 [00:39<00:16,  5.42s/it]"
     ]
    },
    {
     "name": "stdout",
     "output_type": "stream",
     "text": [
      "Epoch: 6 | Train Loss: 0.04326269539227833 | Train Acc: 98.61023869346734 | Val Loss: 2.5749537599040195e-05 | Val Acc: 98.90029325513197\n"
     ]
    },
    {
     "name": "stderr",
     "output_type": "stream",
     "text": [
      " 80%|████████  | 8/10 [00:44<00:10,  5.39s/it]"
     ]
    },
    {
     "name": "stdout",
     "output_type": "stream",
     "text": [
      "Epoch: 7 | Train Loss: 0.04343661444665403 | Train Acc: 98.50816582914574 | Val Loss: 0.00013566056441050023 | Val Acc: 98.86363636363636\n"
     ]
    },
    {
     "name": "stderr",
     "output_type": "stream",
     "text": [
      " 90%|█████████ | 9/10 [00:50<00:05,  5.29s/it]"
     ]
    },
    {
     "name": "stdout",
     "output_type": "stream",
     "text": [
      "Epoch: 8 | Train Loss: 0.04305145366274061 | Train Acc: 98.54742462311557 | Val Loss: 5.832789611304179e-07 | Val Acc: 98.90029325513197\n"
     ]
    },
    {
     "name": "stderr",
     "output_type": "stream",
     "text": [
      "100%|██████████| 10/10 [00:57<00:00,  5.74s/it]"
     ]
    },
    {
     "name": "stdout",
     "output_type": "stream",
     "text": [
      "Epoch: 9 | Train Loss: 0.04320090463559508 | Train Acc: 98.53957286432161 | Val Loss: 0.0018116642022505403 | Val Acc: 98.75366568914956\n"
     ]
    },
    {
     "name": "stderr",
     "output_type": "stream",
     "text": [
      "\n"
     ]
    }
   ],
   "source": [
    "from tqdm.auto import tqdm\n",
    "\n",
    "epochs = 10\n",
    "\n",
    "for epoch in tqdm(range(epochs)):\n",
    "    total_train_acc = 0\n",
    "    total_train_loss = 0\n",
    "    total_val_loss = 0\n",
    "    total_val_acc = 0\n",
    "\n",
    "    for batch, (x, y) in enumerate(training_dataloader):\n",
    "        model_0.train()\n",
    "\n",
    "        y_pred = model_0(x).squeeze(1)\n",
    "        loss = criterion(y_pred, y)\n",
    "        total_train_loss = total_train_loss + loss.item()\n",
    "        total_train_acc = total_train_acc + (y_pred.round() == y).sum().item() / len(y_pred)\n",
    "\n",
    "        optimizer.zero_grad()\n",
    "        loss.backward()\n",
    "        optimizer.step()\n",
    "\n",
    "    model_0.eval()\n",
    "\n",
    "    with torch.inference_mode():\n",
    "        for batch, (x, y) in enumerate(validation_dataloader):\n",
    "            y_pred_val = model_0(x).squeeze(1)\n",
    "\n",
    "            val_loss = criterion(y_pred_val, y)\n",
    "            total_val_loss = total_val_loss + loss.item()\n",
    "\n",
    "            total_val_acc = total_val_acc + (y_pred_val.round() == y).sum().item() / len(y_pred_val)\n",
    "    \n",
    "    total_train_acc = total_train_acc / len(training_dataloader) * 100\n",
    "    total_train_loss = total_train_loss / len(training_dataloader)\n",
    "    total_val_acc = total_val_acc / len(validation_dataloader) * 100\n",
    "    total_val_loss = total_val_loss / len(validation_dataloader)\n",
    "\n",
    "\n",
    "    print(f\"Epoch: {epoch} | Train Loss: {total_train_loss} | Train Acc: {total_train_acc} | Val Loss: {total_val_loss} | Val Acc: {total_val_acc}\")"
   ]
  },
  {
   "cell_type": "code",
   "execution_count": null,
   "id": "160ed37a",
   "metadata": {},
   "outputs": [],
   "source": []
  }
 ],
 "metadata": {
  "kernelspec": {
   "display_name": "myenv",
   "language": "python",
   "name": "python3"
  },
  "language_info": {
   "codemirror_mode": {
    "name": "ipython",
    "version": 3
   },
   "file_extension": ".py",
   "mimetype": "text/x-python",
   "name": "python",
   "nbconvert_exporter": "python",
   "pygments_lexer": "ipython3",
   "version": "3.12.3"
  }
 },
 "nbformat": 4,
 "nbformat_minor": 5
}
