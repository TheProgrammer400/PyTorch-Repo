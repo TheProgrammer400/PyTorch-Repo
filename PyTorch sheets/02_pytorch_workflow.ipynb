{
  "nbformat": 4,
  "nbformat_minor": 0,
  "metadata": {
    "colab": {
      "provenance": []
    },
    "kernelspec": {
      "name": "python3",
      "display_name": "Python 3"
    },
    "language_info": {
      "name": "python"
    }
  },
  "cells": [
    {
      "cell_type": "markdown",
      "source": [
        "# PyTorch Workflow"
      ],
      "metadata": {
        "id": "ezaiWzNPC8uD"
      }
    },
    {
      "cell_type": "code",
      "source": [
        "import torch\n",
        "from torch import nn # contains all of PyTorch's building blocks for neural network\n",
        "import numpy as np\n",
        "import matplotlib.pyplot as plt\n",
        "\n",
        "torch.__version__"
      ],
      "metadata": {
        "colab": {
          "base_uri": "https://localhost:8080/",
          "height": 36
        },
        "id": "XsYQQ8_GDAKJ",
        "outputId": "3eb6b9f5-2dd1-49cc-fad8-9d2d0f4d09b4"
      },
      "execution_count": null,
      "outputs": [
        {
          "output_type": "execute_result",
          "data": {
            "text/plain": [
              "'2.6.0+cu124'"
            ],
            "application/vnd.google.colaboratory.intrinsic+json": {
              "type": "string"
            }
          },
          "metadata": {},
          "execution_count": 2
        }
      ]
    },
    {
      "cell_type": "markdown",
      "source": [
        "## 1. Data (preparing and loading)\n",
        "\n",
        "Data can be anything in ML\n",
        "\n",
        "* Excel spreadsheet\n",
        "* Images of any kind\n",
        "* Videos\n",
        "* Audios\n",
        "* DNA\n",
        "* Text\n",
        "\n",
        "ML consists of two parts:\n",
        "1. Get data into a numerical representation.\n",
        "2. Build a model to learn patterns in that numerical representation.\n",
        "\n",
        "To showcase this, we'll use linear regression formula to make a straight line with **known parameters**."
      ],
      "metadata": {
        "id": "PqYcOuuHD2LC"
      }
    },
    {
      "cell_type": "code",
      "source": [
        "# create known parameter\n",
        "weight = 0.7\n",
        "bias = 0.3\n",
        "\n",
        "start = 0\n",
        "end = 1\n",
        "step = 0.02\n",
        "X = torch.arange(start, end, step).unsqueeze(dim=1)\n",
        "y = weight + bias * X\n",
        "\n",
        "X, y, len(X), len(y)"
      ],
      "metadata": {
        "colab": {
          "base_uri": "https://localhost:8080/"
        },
        "id": "y7t_-gtuD_BA",
        "outputId": "38d6909c-4c1a-4eb0-bf42-fcb232a31b9b"
      },
      "execution_count": null,
      "outputs": [
        {
          "output_type": "execute_result",
          "data": {
            "text/plain": [
              "(tensor([[0.0000],\n",
              "         [0.0200],\n",
              "         [0.0400],\n",
              "         [0.0600],\n",
              "         [0.0800],\n",
              "         [0.1000],\n",
              "         [0.1200],\n",
              "         [0.1400],\n",
              "         [0.1600],\n",
              "         [0.1800],\n",
              "         [0.2000],\n",
              "         [0.2200],\n",
              "         [0.2400],\n",
              "         [0.2600],\n",
              "         [0.2800],\n",
              "         [0.3000],\n",
              "         [0.3200],\n",
              "         [0.3400],\n",
              "         [0.3600],\n",
              "         [0.3800],\n",
              "         [0.4000],\n",
              "         [0.4200],\n",
              "         [0.4400],\n",
              "         [0.4600],\n",
              "         [0.4800],\n",
              "         [0.5000],\n",
              "         [0.5200],\n",
              "         [0.5400],\n",
              "         [0.5600],\n",
              "         [0.5800],\n",
              "         [0.6000],\n",
              "         [0.6200],\n",
              "         [0.6400],\n",
              "         [0.6600],\n",
              "         [0.6800],\n",
              "         [0.7000],\n",
              "         [0.7200],\n",
              "         [0.7400],\n",
              "         [0.7600],\n",
              "         [0.7800],\n",
              "         [0.8000],\n",
              "         [0.8200],\n",
              "         [0.8400],\n",
              "         [0.8600],\n",
              "         [0.8800],\n",
              "         [0.9000],\n",
              "         [0.9200],\n",
              "         [0.9400],\n",
              "         [0.9600],\n",
              "         [0.9800]]),\n",
              " tensor([[0.7000],\n",
              "         [0.7060],\n",
              "         [0.7120],\n",
              "         [0.7180],\n",
              "         [0.7240],\n",
              "         [0.7300],\n",
              "         [0.7360],\n",
              "         [0.7420],\n",
              "         [0.7480],\n",
              "         [0.7540],\n",
              "         [0.7600],\n",
              "         [0.7660],\n",
              "         [0.7720],\n",
              "         [0.7780],\n",
              "         [0.7840],\n",
              "         [0.7900],\n",
              "         [0.7960],\n",
              "         [0.8020],\n",
              "         [0.8080],\n",
              "         [0.8140],\n",
              "         [0.8200],\n",
              "         [0.8260],\n",
              "         [0.8320],\n",
              "         [0.8380],\n",
              "         [0.8440],\n",
              "         [0.8500],\n",
              "         [0.8560],\n",
              "         [0.8620],\n",
              "         [0.8680],\n",
              "         [0.8740],\n",
              "         [0.8800],\n",
              "         [0.8860],\n",
              "         [0.8920],\n",
              "         [0.8980],\n",
              "         [0.9040],\n",
              "         [0.9100],\n",
              "         [0.9160],\n",
              "         [0.9220],\n",
              "         [0.9280],\n",
              "         [0.9340],\n",
              "         [0.9400],\n",
              "         [0.9460],\n",
              "         [0.9520],\n",
              "         [0.9580],\n",
              "         [0.9640],\n",
              "         [0.9700],\n",
              "         [0.9760],\n",
              "         [0.9820],\n",
              "         [0.9880],\n",
              "         [0.9940]]),\n",
              " 50,\n",
              " 50)"
            ]
          },
          "metadata": {},
          "execution_count": 3
        }
      ]
    },
    {
      "cell_type": "markdown",
      "source": [
        "### Splitting the data into training and test sets (most IMP topic in ML in general)"
      ],
      "metadata": {
        "id": "BghEEZzom6qS"
      }
    },
    {
      "cell_type": "code",
      "source": [
        "# create train/test split\n",
        "\n",
        "train_split = int(0.8 * len(X))\n",
        "\n",
        "x_train, y_train = X[:train_split], y[:train_split]\n",
        "x_test, y_test = X[train_split:], y[train_split:]\n",
        "\n",
        "len(x_test), len(y_test), len(x_train), len(y_train)"
      ],
      "metadata": {
        "colab": {
          "base_uri": "https://localhost:8080/"
        },
        "id": "BQMGB42knECm",
        "outputId": "b021ae78-b274-4416-deb5-3d129ce2ee40"
      },
      "execution_count": null,
      "outputs": [
        {
          "output_type": "execute_result",
          "data": {
            "text/plain": [
              "(10, 10, 40, 40)"
            ]
          },
          "metadata": {},
          "execution_count": 4
        }
      ]
    },
    {
      "cell_type": "code",
      "source": [
        "def plot_prediction(train_data = x_train,\n",
        "                    train_labels = y_train,\n",
        "                    test_data = x_test,\n",
        "                    test_labels = y_test,\n",
        "                    prediction = None):\n",
        "\n",
        "    plt.figure(figsize = (10, 10))\n",
        "\n",
        "    # plot the training data in blue\n",
        "    plt.scatter(train_data, train_labels, c = \"b\", s = 4, label = \"Training data\")\n",
        "\n",
        "    # plot the test data in green\n",
        "    plt.scatter(test_data, test_labels, c = \"g\", s = 4, label = \"Testing data\")\n",
        "\n",
        "\n",
        "    if prediction is not None:\n",
        "        plt.scatter(test_data, prediction, c = \"r\", s = 4, label = \"Prediction\")\n"
      ],
      "metadata": {
        "id": "iL6ORgUrrf4H"
      },
      "execution_count": null,
      "outputs": []
    },
    {
      "cell_type": "code",
      "source": [
        "plot_prediction()"
      ],
      "metadata": {
        "colab": {
          "base_uri": "https://localhost:8080/",
          "height": 830
        },
        "id": "9ZvWh7yqtGkD",
        "outputId": "313e8756-a7ac-40d7-df43-29f6d1db7fa3"
      },
      "execution_count": null,
      "outputs": [
        {
          "output_type": "display_data",
          "data": {
            "text/plain": [
              "<Figure size 1000x1000 with 1 Axes>"
            ],
            "image/png": "[encoded data removed]"
          },
          "metadata": {}
        }
      ]
    },
    {
      "cell_type": "markdown",
      "source": [
        "## Build Model\n",
        "\n",
        "We'll build model with the help of OOP in Python, inheriting the nn.Module as parent class in our Model class.\n",
        "\n",
        "### `nn.Module`\n",
        "\n",
        "`nn.Module` is **the base class for all neural network models and layers in PyTorch.** Think of it like the **boss blueprint** that every layer or whole model inherits from to get their swag on.\n",
        "\n",
        "\n",
        "What this model does:\n",
        "\n",
        "* Starts with random values (weights & bias)\n",
        "* Look at training data and adjust the random values to better represent (or get closer to) the ideal values (the weights & bias values we used to create the data)\n",
        "\n",
        "How does it do so?\n",
        "\n",
        "Through two main algorithms:\n",
        "\n",
        "1. Gradient descent\n",
        "2. Backpropagation"
      ],
      "metadata": {
        "id": "JoKXrWyvylxY"
      }
    },
    {
      "cell_type": "code",
      "source": [
        "# create linear regression model class\n",
        "class LinearRegressionModel(nn.Module):\n",
        "    def __init__(self):\n",
        "        super().__init__()\n",
        "        self.weight = nn.Parameter(torch.randn(1,\n",
        "                                                requires_grad=True, # default is True\n",
        "                                                dtype=torch.float32))\n",
        "\n",
        "        self.bias = nn.Parameter(torch.randn(1,\n",
        "                                            requires_grad=True,\n",
        "                                            dtype=torch.float32))\n",
        "\n",
        "        # forward method to define the computation in the model\n",
        "\n",
        "    def forward(self, x: torch.Tensor) -> torch.Tensor: # x is the input data\n",
        "        return self.weight + x * self.bias"
      ],
      "metadata": {
        "id": "yfDnqbh2yq6h"
      },
      "execution_count": null,
      "outputs": []
    },
    {
      "cell_type": "markdown",
      "source": [
        "###  Difference between `torch.rand()` and `torch.randn()`\n",
        "\n",
        "| Function        | Distribution Used                | Range of Values                          |\n",
        "|----------------|----------------------------------|------------------------------------------|\n",
        "| `torch.rand()`  | Uniform distribution             | Between **0 and 1**                      |\n",
        "| `torch.randn()` | Normal distribution (μ = 0, σ = 1) | Can be **negative or positive**, bell-shaped |\n",
        "\n",
        "---\n",
        "\n",
        "💡 **Note:**  \n",
        "- `rand()` is like throwing darts evenly across a wall — values spread flat.  \n",
        "- `randn()` is like dropping weights on a trampoline — most land near the center (0), few hit the edges.\n",
        "\n",
        "Use `randn()` when you want values centered around zero — perfect for initializing neural network weights!\n"
      ],
      "metadata": {
        "id": "IvgeK1i_41Io"
      }
    },
    {
      "cell_type": "markdown",
      "source": [
        "### PyTorch model building essentials\n",
        "\n",
        "* `torch.nn` - contains all of the building blocks for computational graphs (neural networks)\n",
        "* `torch.nn.Parameter` - what parameter should our model try and learn\n",
        "* `torch.nn.Module` - The base class for all neural networks, if you inherit it, you should overwrite `forward()` method\n",
        "* `torch.optim` - this is where the optimizers in PyTorch live, they will help with gradient descent\n",
        "* `torch.utils.data.Dataset` - Represents a map between key (label) and sample (features) pairs of your data, such as images and their associated labels\n",
        "* `torch.utils.data.DataLoader` - Creates a Python over a torch dataset (allows you to iterate over your data)"
      ],
      "metadata": {
        "id": "iwFi8dI4rglK"
      }
    },
    {
      "cell_type": "markdown",
      "source": [
        "### Checking the content of our PyTorch model\n",
        "\n"
      ],
      "metadata": {
        "id": "Pcu7hhE1xn5h"
      }
    },
    {
      "cell_type": "code",
      "source": [
        "# create a random seed\n",
        "torch.manual_seed(42)\n",
        "\n",
        "# create an instance of the model\n",
        "model_0 = LinearRegressionModel()\n",
        "\n",
        "# check out the parameters\n",
        "print(list(model_0.parameters()))\n"
      ],
      "metadata": {
        "colab": {
          "base_uri": "https://localhost:8080/"
        },
        "id": "EQOX6buKxt1X",
        "outputId": "26f15f88-a99a-4f96-9848-2d7c1e085ecd"
      },
      "execution_count": null,
      "outputs": [
        {
          "output_type": "stream",
          "name": "stdout",
          "text": [
            "[Parameter containing:\n",
            "tensor([0.3367], requires_grad=True), Parameter containing:\n",
            "tensor([0.1288], requires_grad=True)]\n"
          ]
        }
      ]
    },
    {
      "cell_type": "markdown",
      "source": [
        "### Making prediction using `torch.inference_mode()`\n",
        "\n",
        "To check our model's predictive power, let's see how well it predicts `y_test` based on `x_test`.\n",
        "\n",
        "When we pass data through our model, it's going to run through the `forward()` method.\n"
      ],
      "metadata": {
        "id": "RcGr-hmLFBRE"
      }
    },
    {
      "cell_type": "code",
      "source": [
        "# input and its ideal output\n",
        "x_test, y_test"
      ],
      "metadata": {
        "colab": {
          "base_uri": "https://localhost:8080/"
        },
        "id": "gQQWkeD1DZSE",
        "outputId": "e021b6b9-e01b-4636-8991-07bbce478c31"
      },
      "execution_count": null,
      "outputs": [
        {
          "output_type": "execute_result",
          "data": {
            "text/plain": [
              "(tensor([[0.8000],\n",
              "         [0.8200],\n",
              "         [0.8400],\n",
              "         [0.8600],\n",
              "         [0.8800],\n",
              "         [0.9000],\n",
              "         [0.9200],\n",
              "         [0.9400],\n",
              "         [0.9600],\n",
              "         [0.9800]]),\n",
              " tensor([[0.9400],\n",
              "         [0.9460],\n",
              "         [0.9520],\n",
              "         [0.9580],\n",
              "         [0.9640],\n",
              "         [0.9700],\n",
              "         [0.9760],\n",
              "         [0.9820],\n",
              "         [0.9880],\n",
              "         [0.9940]]))"
            ]
          },
          "metadata": {},
          "execution_count": 9
        }
      ]
    },
    {
      "cell_type": "code",
      "source": [
        "with torch.inference_mode(): # turn off gradient tracking while testing the model\n",
        "    y_preds = model_0(x_test)  # same as -> model_0.forward(x_test)\n",
        "\n",
        "y_preds # values predicted by our model based on x_test as input"
      ],
      "metadata": {
        "colab": {
          "base_uri": "https://localhost:8080/"
        },
        "id": "8Zw6TRMX5aCz",
        "outputId": "4153aa04-9a33-445f-97d3-34cf836cd44d"
      },
      "execution_count": null,
      "outputs": [
        {
          "output_type": "execute_result",
          "data": {
            "text/plain": [
              "tensor([[0.4397],\n",
              "        [0.4423],\n",
              "        [0.4449],\n",
              "        [0.4475],\n",
              "        [0.4500],\n",
              "        [0.4526],\n",
              "        [0.4552],\n",
              "        [0.4578],\n",
              "        [0.4603],\n",
              "        [0.4629]])"
            ]
          },
          "metadata": {},
          "execution_count": 10
        }
      ]
    },
    {
      "cell_type": "code",
      "source": [
        "# visualize our prediction\n",
        "plot_prediction(prediction=y_preds)"
      ],
      "metadata": {
        "colab": {
          "base_uri": "https://localhost:8080/",
          "height": 830
        },
        "id": "t1Dz-PbjEOjq",
        "outputId": "c78436ca-ae8f-47a0-e6ec-c51c4379ac71"
      },
      "execution_count": null,
      "outputs": [
        {
          "output_type": "display_data",
          "data": {
            "text/plain": [
              "<Figure size 1000x1000 with 1 Axes>"
            ],
            "image/png": "[encoded data removed]"
          },
          "metadata": {}
        }
      ]
    },
    {
      "cell_type": "markdown",
      "source": [
        "### Train the model\n",
        "\n",
        "The whole idea of training is for a model to move from **unknown** parameters (may be random) to some **known** parameters.\n",
        "\n",
        "In other words, from poor representation of the data to the better representation of the data.\n",
        "\n",
        "One way to measure how poor or how wrong your model's prediction are to use a loss function.\n",
        "\n",
        "* Note: Loss function be called as cost function or criterion function in different areas.\n",
        "\n",
        "Thhings we need to train:\n",
        "\n",
        "* **Loss function:** A function to measure how wrong your model's predictions are to the ideal outputs, lower is better.\n",
        "* **Optimizer:** Takes into account of loss of a model and adjusts the model's parameters (e.g. weight & bias) to improve loss function.\n",
        "    * Inside the optimizer, you'll often have to set two parameters:\n",
        "        * `params` - The model parameter that you would like to optimize.\n",
        "        * `lr (learning rate)` - Learning rate is a hyperparameter that defines how big/small optimizer chnages the parameter with each step (a small `lr` results in small changes, a large `lr` results in large changes)\n",
        "\n",
        "For PyTorch we need:\n",
        "\n",
        "* A training loop\n",
        "* A testing loop"
      ],
      "metadata": {
        "id": "1jSyKvUfIuLa"
      }
    },
    {
      "cell_type": "code",
      "source": [
        "model_0.state_dict()"
      ],
      "metadata": {
        "colab": {
          "base_uri": "https://localhost:8080/"
        },
        "id": "lS5XtAy4IHqF",
        "outputId": "b71e6980-fac1-4188-f2b0-88a845b3d9b8"
      },
      "execution_count": null,
      "outputs": [
        {
          "output_type": "execute_result",
          "data": {
            "text/plain": [
              "OrderedDict([('weight', tensor([0.3367])), ('bias', tensor([0.1288]))])"
            ]
          },
          "metadata": {},
          "execution_count": 12
        }
      ]
    },
    {
      "cell_type": "code",
      "source": [
        "# setup a loss function\n",
        "loss_fn = nn.L1Loss() # creating an instance of L1Loss class\n",
        "\n",
        "# setup an optimizer (SGD)\n",
        "optimizer = torch.optim.SGD(params=model_0.parameters(), # torch.optim.SGD -> also a class\n",
        "                            lr=0.01) # learning rate = possible the most important hyperparameter you can set\n",
        "\n",
        "# optimizer is instance of torch.optim.SGD class"
      ],
      "metadata": {
        "id": "3MLJv1fpIPAi"
      },
      "execution_count": null,
      "outputs": []
    },
    {
      "cell_type": "markdown",
      "source": [
        "### Building a training loop (and testing loop) in PyTorch\n",
        "\n",
        "Couple of things we need in training loop:\n",
        "0. Look through the data.\n",
        "1. Forward pass (this involves data moving through our model's `forward()` functions) to make predictions on data - also called as forward propagation\n",
        "2. Calculate the loss (compare forward pass prediction to ground labels)\n",
        "3. Optimizer zero grad\n",
        "4. Loss backward - move backwards through the network to calculate the gradients of each of the parameters of our model with respect to the loss (**backpropagation**)\n",
        "5. Optimizer step - use the optimizer to adjust our model's parametes to try and improve the loss (**gradient descent**)"
      ],
      "metadata": {
        "id": "jj2W7K8NbAfd"
      }
    },
    {
      "cell_type": "code",
      "source": [
        "# An epoch is one loop through the data. (a hyperparameter)\n",
        "epochs = 100\n",
        "\n",
        "# track different values\n",
        "\n",
        "epoch_count = []\n",
        "loss_values = []\n",
        "test_loss_values = []\n",
        "\n",
        "# 0. loop through the data\n",
        "for epoch in range(epochs):\n",
        "    # set the model to training mode\n",
        "    model_0.train()\n",
        "\n",
        "    # 1. Forward pass\n",
        "    y_pred = model_0(x_train)\n",
        "\n",
        "    # 2. Calculate the loss\n",
        "    loss = loss_fn(y_pred, y_train)\n",
        "\n",
        "    # 3. Optimizer zero grad\n",
        "    optimizer.zero_grad()\n",
        "\n",
        "    # 4. Perform backpropagation on the loss with respect to the parameters of the model\n",
        "    loss.backward()\n",
        "\n",
        "    # 5. Step the optimizer (perform gradient descent)\n",
        "    optimizer.step()\n",
        "\n",
        "    # by default how the optimizer chnages will accumulate through the loop\n",
        "    # so we have to zero them as we did in step-3\n",
        "\n",
        "    # testing\n",
        "    model_0.eval() # turns off different settings in the model not needed for evaluation/testing\n",
        "\n",
        "    with torch.inference_mode():\n",
        "        # 1. do the forward pass\n",
        "        y_preds = model_0(x_test)\n",
        "\n",
        "        # 2. calculate the loss\n",
        "        test_loss = loss_fn(y_preds, y_test)\n",
        "\n",
        "    if epoch % 10 == 0:\n",
        "        print(f\"Epoch: {epoch} | Loss: {loss} | Test loss: {test_loss}\")\n",
        "\n",
        "        epoch_count.append(epoch)\n",
        "        loss_values.append(loss)\n",
        "        test_loss_values.append(test_loss)\n",
        "\n",
        "        # print the model_0 parameters\n",
        "        print(model_0.state_dict())\n",
        "\n",
        "plot_prediction(prediction=y_preds)\n"
      ],
      "metadata": {
        "id": "3LI3a2AAbCvI",
        "colab": {
          "base_uri": "https://localhost:8080/",
          "height": 1000
        },
        "outputId": "2c832e95-ce29-481d-9baa-5d00e44fc969"
      },
      "execution_count": null,
      "outputs": [
        {
          "output_type": "stream",
          "name": "stdout",
          "text": [
            "Epoch: 0 | Loss: 0.43007391691207886 | Test loss: 0.5021982789039612\n",
            "OrderedDict([('weight', tensor([0.3467])), ('bias', tensor([0.1327]))])\n",
            "Epoch: 10 | Loss: 0.31486400961875916 | Test loss: 0.367488294839859\n",
            "OrderedDict([('weight', tensor([0.4467])), ('bias', tensor([0.1717]))])\n",
            "Epoch: 20 | Loss: 0.19965408742427826 | Test loss: 0.23277834057807922\n",
            "OrderedDict([('weight', tensor([0.5467])), ('bias', tensor([0.2107]))])\n",
            "Epoch: 30 | Loss: 0.08444416522979736 | Test loss: 0.09806839376688004\n",
            "OrderedDict([('weight', tensor([0.6467])), ('bias', tensor([0.2497]))])\n",
            "Epoch: 40 | Loss: 0.004109492991119623 | Test loss: 0.009033465757966042\n",
            "OrderedDict([('weight', tensor([0.7077])), ('bias', tensor([0.2812]))])\n",
            "Epoch: 50 | Loss: 0.0031431943643838167 | Test loss: 0.007977604866027832\n",
            "OrderedDict([('weight', tensor([0.7087])), ('bias', tensor([0.2992]))])\n",
            "Epoch: 60 | Loss: 0.0031431943643838167 | Test loss: 0.007977604866027832\n",
            "OrderedDict([('weight', tensor([0.7087])), ('bias', tensor([0.2992]))])\n",
            "Epoch: 70 | Loss: 0.0031431943643838167 | Test loss: 0.007977604866027832\n",
            "OrderedDict([('weight', tensor([0.7087])), ('bias', tensor([0.2992]))])\n",
            "Epoch: 80 | Loss: 0.0031431943643838167 | Test loss: 0.007977604866027832\n",
            "OrderedDict([('weight', tensor([0.7087])), ('bias', tensor([0.2992]))])\n",
            "Epoch: 90 | Loss: 0.0031431943643838167 | Test loss: 0.007977604866027832\n",
            "OrderedDict([('weight', tensor([0.7087])), ('bias', tensor([0.2992]))])\n"
          ]
        },
        {
          "output_type": "display_data",
          "data": {
            "text/plain": [
              "<Figure size 1000x1000 with 1 Axes>"
            ],
            "image/png": "[encoded data removed]"
          },
          "metadata": {}
        }
      ]
    },
    {
      "cell_type": "markdown",
      "source": [
        "# Optimizer, Backpropagation, and optimizer.step() — Explained Simply\n",
        "\n",
        "- **Backpropagation** is like the blame game.  \n",
        "  After your model makes a prediction, backpropagation goes backward through the model and figures out how much each parameter (weight or bias) messed up by calculating **gradients**.\n",
        "\n",
        "- **Optimizer** is like the peon ready to fix the model.  \n",
        "  It uses the gradients from backpropagation to plan how to adjust the weights and biases to make the model better.\n",
        "\n",
        "- **`optimizer.step()`** is the peon's hand that actually makes the move.  \n",
        "  Without calling `.step()`, the optimizer just has a plan but doesn't apply any changes.  \n",
        "  Calling `.step()` **updates** the parameters based on the gradients.\n",
        "\n",
        "---\n",
        "\n",
        "### The flow looks like this:\n",
        "\n",
        "1. Model predicts (forward pass).  \n",
        "2. Calculate how wrong the prediction was (loss).  \n",
        "3. Backpropagation computes gradients (blames parameters).  \n",
        "4. Optimizer plans how to fix weights using gradients.  \n",
        "5. `optimizer.step()` applies those fixes.  \n",
        "6. Repeat many times (epochs) to improve the model.\n",
        "\n",
        "---\n",
        "\n",
        "Think of it like:\n",
        "\n",
        "- Optimizer = the peon ready to work.  \n",
        "- `optimizer.step()` = the peon's hand that moves the bricks.\n",
        "\n",
        "Without the hand moving, all the planning is useless!\n",
        "\n",
        "---"
      ],
      "metadata": {
        "id": "oVLc1DzGuU-5"
      }
    },
    {
      "cell_type": "code",
      "source": [
        "plt.plot(epoch_count, np.array(torch.tensor(loss_values).numpy()), label = \"Train loss\")\n",
        "plt.plot(epoch_count, np.array(torch.tensor(test_loss_values).numpy()), label = \"Test loss\")\n",
        "plt.xlabel(\"Epoch Count\")\n",
        "plt.ylabel(\"Loss\")\n",
        "plt.legend()"
      ],
      "metadata": {
        "colab": {
          "base_uri": "https://localhost:8080/",
          "height": 466
        },
        "id": "7G2JZMzdeqAQ",
        "outputId": "4db2376a-a1bd-4e47-b887-f3fffb47f9bf"
      },
      "execution_count": null,
      "outputs": [
        {
          "output_type": "execute_result",
          "data": {
            "text/plain": [
              "<matplotlib.legend.Legend at 0x7c1166a8b150>"
            ]
          },
          "metadata": {},
          "execution_count": 15
        },
        {
          "output_type": "display_data",
          "data": {
            "text/plain": [
              "<Figure size 640x480 with 1 Axes>"
            ],
            "image/png": "[encoded data removed]"
          },
          "metadata": {}
        }
      ]
    },
    {
      "cell_type": "markdown",
      "source": [
        "## Saving a model in PyTorch\n",
        "\n",
        "There are three main methods for saving and loading models in PyTorch.\n",
        "\n",
        "1. `torch.save()` - allows you to save a PyTorch object in Python's pickle format.\n",
        "2. `torch.load()` - allows you to load a saved PyTorch object\n",
        "3. `torch.nn.Module.load_state_dict()` - allows you to load a model's saved state dictionary."
      ],
      "metadata": {
        "id": "CIbTCKykp_5R"
      }
    },
    {
      "cell_type": "code",
      "source": [
        "# saving our pytorch model\n",
        "from pathlib import Path\n",
        "\n",
        "# 1. create models directory\n",
        "MODEL_PATH = Path(\"models\")\n",
        "MODEL_PATH.mkdir(parents=True, exist_ok=True)\n",
        "\n",
        "# 2. create a model save path\n",
        "MODEL_NAME = \"pytorch_workflow_model_0.pth\"\n",
        "MODEL_SAVE_PATH = MODEL_PATH / MODEL_NAME\n",
        "\n",
        "# 3. save the model state dict (recommeded way)\n",
        "print(f\"Saving model to: {MODEL_SAVE_PATH}\")\n",
        "torch.save(obj=model_0.state_dict(), # object to save\n",
        "           f = MODEL_SAVE_PATH) # path"
      ],
      "metadata": {
        "colab": {
          "base_uri": "https://localhost:8080/"
        },
        "id": "6r7FAQzesLaj",
        "outputId": "7f470eef-0148-48cc-f6ba-1ec87fa112e2"
      },
      "execution_count": null,
      "outputs": [
        {
          "output_type": "stream",
          "name": "stdout",
          "text": [
            "Saving model to: models/pytorch_workflow_model_0.pth\n"
          ]
        }
      ]
    },
    {
      "cell_type": "markdown",
      "source": [
        "## Loading a PyTorch model\n",
        "\n",
        "Since we saved our model's `state_dict()` rather than the entire model, we'll create a new instance of our model class and load the saved `state_dict()` into that model."
      ],
      "metadata": {
        "id": "5jwtYFsl_A-1"
      }
    },
    {
      "cell_type": "code",
      "source": [
        "model_0.state_dict()"
      ],
      "metadata": {
        "colab": {
          "base_uri": "https://localhost:8080/"
        },
        "id": "VOpvbmZg_RNc",
        "outputId": "73e26490-7925-41f0-cc54-6cdb21caa242"
      },
      "execution_count": null,
      "outputs": [
        {
          "output_type": "execute_result",
          "data": {
            "text/plain": [
              "OrderedDict([('weight', tensor([0.6987])), ('bias', tensor([0.2953]))])"
            ]
          },
          "metadata": {},
          "execution_count": 17
        }
      ]
    },
    {
      "cell_type": "code",
      "source": [
        "# to load in a saved state_dict(), we have to instantiate a new instance of our model class\n",
        "loaded_model_0 = LinearRegressionModel()\n",
        "\n",
        "# load the saved state_dict of model_0 (this will update the new instance with updated parameters)\n",
        "loaded_model_0.load_state_dict(torch.load(f=MODEL_SAVE_PATH))"
      ],
      "metadata": {
        "colab": {
          "base_uri": "https://localhost:8080/"
        },
        "id": "EaVs9PjQ_YL4",
        "outputId": "087cb7d1-cee3-4cd2-d715-f652b1ed885e"
      },
      "execution_count": null,
      "outputs": [
        {
          "output_type": "execute_result",
          "data": {
            "text/plain": [
              "<All keys matched successfully>"
            ]
          },
          "metadata": {},
          "execution_count": 18
        }
      ]
    },
    {
      "cell_type": "code",
      "source": [
        "loaded_model_0.state_dict()"
      ],
      "metadata": {
        "colab": {
          "base_uri": "https://localhost:8080/"
        },
        "id": "-LiWPomUANsu",
        "outputId": "7ed1934b-3261-41be-afb2-2032f7717513"
      },
      "execution_count": null,
      "outputs": [
        {
          "output_type": "execute_result",
          "data": {
            "text/plain": [
              "OrderedDict([('weight', tensor([0.6987])), ('bias', tensor([0.2953]))])"
            ]
          },
          "metadata": {},
          "execution_count": 19
        }
      ]
    }
  ]
}