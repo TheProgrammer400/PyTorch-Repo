{
  "cells": [
    {
      "cell_type": "markdown",
      "metadata": {
        "id": "tNkuOWldtqM-"
      },
      "source": [
        "# Neural Network Classification with PyTorch\n",
        "\n",
        "Classification is the task of predicting which category or class an item belongs to, with the possibility of having multiple options to choose from.\n",
        "\n"
      ]
    },
    {
      "cell_type": "markdown",
      "metadata": {
        "id": "oJLdOvY-vDuQ"
      },
      "source": [
        "## 1. Make Classification Data & Get It Ready\n",
        "\n"
      ]
    },
    {
      "cell_type": "code",
      "execution_count": 1,
      "metadata": {
        "id": "yzeZBWrPvK1U"
      },
      "outputs": [],
      "source": [
        "import sklearn\n",
        "import torch\n",
        "from torch import nn"
      ]
    },
    {
      "cell_type": "code",
      "execution_count": 2,
      "metadata": {
        "id": "pS4C3pS91_PU"
      },
      "outputs": [],
      "source": [
        "from sklearn.datasets import make_circles\n",
        "\n",
        "# make 1000 samples\n",
        "n_samples = 1000\n",
        "\n",
        "# create circles\n",
        "X, y = make_circles(n_samples,\n",
        "                    noise=0.03,\n",
        "                    random_state=42)"
      ]
    },
    {
      "cell_type": "code",
      "execution_count": 3,
      "metadata": {
        "colab": {
          "base_uri": "https://localhost:8080/"
        },
        "id": "DFoOHoDA2Ph4",
        "outputId": "46b1a090-e19e-4d49-9206-00b2e184ca2d"
      },
      "outputs": [
        {
          "data": {
            "text/plain": [
              "(array([[ 0.75424625,  0.23148074],\n",
              "        [-0.75615888,  0.15325888],\n",
              "        [-0.81539193,  0.17328203],\n",
              "        ...,\n",
              "        [-0.13690036, -0.81001183],\n",
              "        [ 0.67036156, -0.76750154],\n",
              "        [ 0.28105665,  0.96382443]]),\n",
              " array([1, 1, 1, 1, 0, 1, 1, 1, 1, 0, 1, 0, 1, 1, 1, 1, 0, 1, 1, 0, 1, 0,\n",
              "        0, 1, 0, 0, 0, 1, 1, 1, 0, 0, 1, 0, 0, 0, 1, 1, 1, 0, 0, 0, 0, 1,\n",
              "        0, 0, 1, 1, 0, 1, 1, 1, 0, 1, 0, 0, 1, 0, 0, 1, 0, 0, 1, 0, 1, 1,\n",
              "        1, 1, 0, 1, 0, 0, 1, 1, 0, 0, 1, 0, 1, 0, 1, 0, 0, 0, 0, 1, 1, 1,\n",
              "        1, 0, 0, 0, 1, 0, 1, 0, 1, 0, 0, 1, 1, 0, 1, 0, 1, 1, 1, 1, 0, 1,\n",
              "        1, 1, 1, 1, 0, 0, 0, 1, 1, 0, 1, 0, 1, 0, 0, 1, 1, 0, 1, 1, 1, 1,\n",
              "        0, 1, 1, 0, 0, 0, 0, 0, 0, 0, 1, 0, 1, 1, 1, 0, 1, 0, 1, 0, 1, 0,\n",
              "        1, 0, 0, 1, 0, 1, 1, 1, 1, 1, 1, 1, 0, 1, 0, 0, 0, 0, 0, 1, 0, 0,\n",
              "        0, 0, 1, 1, 0, 1, 0, 1, 1, 0, 0, 0, 1, 1, 1, 1, 1, 0, 0, 0, 0, 0,\n",
              "        1, 0, 0, 1, 1, 1, 1, 1, 0, 1, 0, 1, 0, 0, 1, 1, 1, 0, 1, 0, 1, 1,\n",
              "        0, 1, 1, 0, 1, 0, 1, 0, 1, 1, 0, 1, 0, 1, 0, 0, 0, 1, 0, 0, 0, 0,\n",
              "        1, 1, 0, 0, 0, 0, 0, 0, 0, 1, 1, 1, 0, 0, 1, 1, 1, 0, 1, 0, 0, 0,\n",
              "        0, 1, 1, 0, 1, 0, 0, 0, 1, 0, 1, 0, 0, 1, 0, 1, 1, 1, 0, 0, 0, 1,\n",
              "        0, 0, 0, 1, 1, 1, 1, 0, 0, 0, 1, 0, 0, 0, 1, 0, 0, 0, 1, 1, 0, 1,\n",
              "        1, 1, 1, 1, 1, 1, 0, 0, 0, 0, 1, 0, 0, 0, 0, 1, 1, 1, 0, 0, 1, 0,\n",
              "        1, 0, 1, 1, 0, 0, 1, 1, 1, 1, 0, 0, 0, 0, 0, 0, 1, 1, 0, 1, 0, 0,\n",
              "        1, 0, 0, 0, 0, 0, 0, 0, 0, 1, 0, 0, 0, 0, 1, 0, 0, 1, 0, 1, 0, 0,\n",
              "        0, 1, 0, 0, 1, 1, 0, 0, 1, 0, 0, 1, 1, 0, 1, 1, 0, 0, 1, 0, 1, 0,\n",
              "        0, 0, 1, 1, 0, 0, 1, 1, 1, 1, 1, 0, 0, 1, 1, 1, 1, 0, 1, 1, 1, 1,\n",
              "        1, 0, 0, 1, 0, 1, 0, 0, 0, 0, 1, 0, 0, 0, 0, 0, 0, 0, 0, 0, 1, 1,\n",
              "        0, 1, 1, 1, 1, 1, 1, 0, 1, 1, 1, 1, 0, 0, 0, 1, 1, 1, 0, 0, 0, 0,\n",
              "        1, 1, 0, 0, 0, 0, 1, 0, 0, 0, 1, 0, 0, 1, 1, 1, 1, 1, 1, 0, 0, 0,\n",
              "        1, 0, 0, 0, 0, 0, 1, 1, 1, 0, 0, 0, 0, 0, 1, 1, 1, 0, 0, 1, 1, 1,\n",
              "        1, 0, 1, 1, 0, 1, 0, 0, 0, 1, 0, 0, 1, 0, 0, 1, 1, 0, 0, 1, 1, 0,\n",
              "        1, 0, 1, 0, 1, 0, 1, 0, 0, 0, 1, 0, 0, 0, 0, 0, 0, 1, 1, 1, 1, 0,\n",
              "        0, 0, 1, 0, 1, 1, 0, 0, 0, 0, 0, 1, 1, 1, 0, 0, 1, 0, 0, 1, 0, 0,\n",
              "        1, 0, 0, 1, 0, 0, 0, 1, 0, 0, 1, 1, 1, 0, 1, 1, 0, 0, 0, 1, 1, 1,\n",
              "        1, 0, 0, 1, 1, 1, 0, 0, 0, 0, 1, 1, 0, 0, 1, 1, 0, 0, 1, 1, 1, 1,\n",
              "        1, 1, 1, 0, 1, 0, 1, 0, 0, 1, 0, 1, 1, 1, 1, 0, 0, 1, 1, 0, 0, 1,\n",
              "        0, 1, 0, 0, 0, 1, 0, 0, 1, 1, 1, 1, 0, 1, 1, 1, 1, 1, 1, 1, 0, 1,\n",
              "        0, 1, 1, 1, 0, 0, 1, 0, 0, 0, 1, 1, 1, 1, 0, 0, 0, 0, 1, 0, 1, 1,\n",
              "        1, 0, 1, 0, 0, 1, 0, 0, 1, 1, 1, 1, 1, 0, 1, 0, 0, 0, 1, 1, 1, 1,\n",
              "        1, 0, 0, 0, 1, 1, 1, 1, 0, 0, 0, 0, 0, 1, 1, 0, 1, 0, 1, 0, 0, 0,\n",
              "        0, 0, 0, 0, 0, 0, 1, 1, 1, 1, 1, 0, 1, 0, 1, 1, 1, 1, 0, 1, 1, 1,\n",
              "        1, 1, 1, 1, 1, 0, 1, 1, 0, 1, 0, 0, 0, 1, 0, 1, 1, 1, 0, 1, 1, 0,\n",
              "        1, 1, 0, 1, 0, 1, 1, 0, 0, 1, 1, 1, 0, 0, 0, 0, 1, 1, 0, 0, 1, 1,\n",
              "        1, 1, 1, 1, 1, 1, 1, 1, 1, 1, 1, 1, 0, 0, 1, 0, 1, 0, 1, 0, 1, 1,\n",
              "        1, 1, 1, 1, 0, 1, 0, 1, 1, 1, 0, 1, 1, 0, 0, 1, 0, 1, 1, 0, 0, 1,\n",
              "        1, 1, 1, 1, 1, 1, 1, 0, 1, 1, 1, 0, 1, 0, 0, 1, 1, 0, 0, 0, 1, 0,\n",
              "        0, 1, 0, 0, 0, 1, 0, 1, 0, 0, 0, 0, 1, 0, 1, 1, 1, 1, 0, 1, 0, 0,\n",
              "        0, 0, 0, 0, 1, 0, 1, 0, 1, 0, 1, 1, 1, 0, 1, 0, 1, 0, 0, 1, 1, 1,\n",
              "        0, 0, 0, 1, 1, 0, 1, 0, 1, 1, 0, 1, 0, 0, 1, 1, 1, 0, 0, 0, 1, 1,\n",
              "        0, 0, 0, 0, 0, 1, 1, 0, 1, 0, 0, 0, 1, 0, 0, 0, 1, 1, 1, 1, 0, 1,\n",
              "        1, 1, 0, 1, 1, 1, 1, 0, 1, 1, 0, 1, 1, 0, 0, 1, 1, 1, 0, 0, 0, 0,\n",
              "        0, 0, 1, 0, 0, 1, 0, 0, 0, 1, 0, 1, 0, 1, 1, 0, 0, 0, 0, 0, 0, 0,\n",
              "        0, 1, 0, 1, 0, 0, 0, 1, 0, 0]))"
            ]
          },
          "execution_count": 3,
          "metadata": {},
          "output_type": "execute_result"
        }
      ],
      "source": [
        "X, y"
      ]
    },
    {
      "cell_type": "code",
      "execution_count": 4,
      "metadata": {
        "colab": {
          "base_uri": "https://localhost:8080/",
          "height": 363
        },
        "id": "S-U1QZf6BFam",
        "outputId": "d45b51cb-aff8-4e32-fd25-3b108f4aee8e"
      },
      "outputs": [
        {
          "data": {
            "text/html": [
              "<div>\n",
              "<style scoped>\n",
              "    .dataframe tbody tr th:only-of-type {\n",
              "        vertical-align: middle;\n",
              "    }\n",
              "\n",
              "    .dataframe tbody tr th {\n",
              "        vertical-align: top;\n",
              "    }\n",
              "\n",
              "    .dataframe thead th {\n",
              "        text-align: right;\n",
              "    }\n",
              "</style>\n",
              "<table border=\"1\" class=\"dataframe\">\n",
              "  <thead>\n",
              "    <tr style=\"text-align: right;\">\n",
              "      <th></th>\n",
              "      <th>X1</th>\n",
              "      <th>X2</th>\n",
              "      <th>label</th>\n",
              "    </tr>\n",
              "  </thead>\n",
              "  <tbody>\n",
              "    <tr>\n",
              "      <th>0</th>\n",
              "      <td>0.754246</td>\n",
              "      <td>0.231481</td>\n",
              "      <td>1</td>\n",
              "    </tr>\n",
              "    <tr>\n",
              "      <th>1</th>\n",
              "      <td>-0.756159</td>\n",
              "      <td>0.153259</td>\n",
              "      <td>1</td>\n",
              "    </tr>\n",
              "    <tr>\n",
              "      <th>2</th>\n",
              "      <td>-0.815392</td>\n",
              "      <td>0.173282</td>\n",
              "      <td>1</td>\n",
              "    </tr>\n",
              "    <tr>\n",
              "      <th>3</th>\n",
              "      <td>-0.393731</td>\n",
              "      <td>0.692883</td>\n",
              "      <td>1</td>\n",
              "    </tr>\n",
              "    <tr>\n",
              "      <th>4</th>\n",
              "      <td>0.442208</td>\n",
              "      <td>-0.896723</td>\n",
              "      <td>0</td>\n",
              "    </tr>\n",
              "    <tr>\n",
              "      <th>5</th>\n",
              "      <td>-0.479646</td>\n",
              "      <td>0.676435</td>\n",
              "      <td>1</td>\n",
              "    </tr>\n",
              "    <tr>\n",
              "      <th>6</th>\n",
              "      <td>-0.013648</td>\n",
              "      <td>0.803349</td>\n",
              "      <td>1</td>\n",
              "    </tr>\n",
              "    <tr>\n",
              "      <th>7</th>\n",
              "      <td>0.771513</td>\n",
              "      <td>0.147760</td>\n",
              "      <td>1</td>\n",
              "    </tr>\n",
              "    <tr>\n",
              "      <th>8</th>\n",
              "      <td>-0.169322</td>\n",
              "      <td>-0.793456</td>\n",
              "      <td>1</td>\n",
              "    </tr>\n",
              "    <tr>\n",
              "      <th>9</th>\n",
              "      <td>-0.121486</td>\n",
              "      <td>1.021509</td>\n",
              "      <td>0</td>\n",
              "    </tr>\n",
              "  </tbody>\n",
              "</table>\n",
              "</div>"
            ],
            "text/plain": [
              "         X1        X2  label\n",
              "0  0.754246  0.231481      1\n",
              "1 -0.756159  0.153259      1\n",
              "2 -0.815392  0.173282      1\n",
              "3 -0.393731  0.692883      1\n",
              "4  0.442208 -0.896723      0\n",
              "5 -0.479646  0.676435      1\n",
              "6 -0.013648  0.803349      1\n",
              "7  0.771513  0.147760      1\n",
              "8 -0.169322 -0.793456      1\n",
              "9 -0.121486  1.021509      0"
            ]
          },
          "execution_count": 4,
          "metadata": {},
          "output_type": "execute_result"
        }
      ],
      "source": [
        "# make datafram of circle data\n",
        "import pandas as pd\n",
        "\n",
        "circles = pd.DataFrame({\"X1\": X[:, 0], \"X2\": X[:, 1], \"label\": y})\n",
        "circles.head(10)"
      ]
    },
    {
      "cell_type": "code",
      "execution_count": 5,
      "metadata": {
        "colab": {
          "base_uri": "https://localhost:8080/",
          "height": 447
        },
        "id": "KNSd2o9iDTuF",
        "outputId": "e76a280e-7832-48ce-b986-664ad663b071"
      },
      "outputs": [
        {
          "data": {
            "text/plain": [
              "<matplotlib.collections.PathCollection at 0x7011b195b2c0>"
            ]
          },
          "execution_count": 5,
          "metadata": {},
          "output_type": "execute_result"
        },
        {
          "data": {
            "image/png": "[encoded data removed]",
            "text/plain": [
              "<Figure size 640x480 with 1 Axes>"
            ]
          },
          "metadata": {},
          "output_type": "display_data"
        }
      ],
      "source": [
        "# plotting the data-points\n",
        "import matplotlib.pyplot as plt\n",
        "\n",
        "plt.scatter(x = X[:, 0],\n",
        "            y = X[:, 1],\n",
        "            c = y)"
      ]
    },
    {
      "cell_type": "markdown",
      "metadata": {
        "id": "cqEfFGYqDrPQ"
      },
      "source": [
        "**Note:** The data we're working with is often referred to as a toy dataset, a dataset that is small enough experiment but still sizeable enough to practise the fundamentals."
      ]
    },
    {
      "cell_type": "markdown",
      "metadata": {
        "id": "pROV1jNSErM7"
      },
      "source": [
        "## 1.1 Check Input & Output Shapes"
      ]
    },
    {
      "cell_type": "code",
      "execution_count": 6,
      "metadata": {
        "colab": {
          "base_uri": "https://localhost:8080/"
        },
        "id": "gz5Y_srREvfd",
        "outputId": "ba3de58a-8085-49f0-efd1-cc97a1c4672b"
      },
      "outputs": [
        {
          "data": {
            "text/plain": [
              "((1000, 2), (1000,))"
            ]
          },
          "execution_count": 6,
          "metadata": {},
          "output_type": "execute_result"
        }
      ],
      "source": [
        "X.shape, y.shape"
      ]
    },
    {
      "cell_type": "markdown",
      "metadata": {
        "id": "-sIjMt1HNDkw"
      },
      "source": [
        "### 1.2 Turn Data Into Tensors & Creaet Train & Test Splits"
      ]
    },
    {
      "cell_type": "code",
      "execution_count": 7,
      "metadata": {
        "id": "khlWCb4_MwiL"
      },
      "outputs": [],
      "source": [
        "x = torch.from_numpy(X).type(torch.float)\n",
        "y = torch.from_numpy(y).type(torch.float)"
      ]
    },
    {
      "cell_type": "code",
      "execution_count": 8,
      "metadata": {
        "colab": {
          "base_uri": "https://localhost:8080/"
        },
        "id": "NlE-HU86MxRI",
        "outputId": "a907eff2-e7d7-4388-e066-fadacef30acb"
      },
      "outputs": [
        {
          "data": {
            "text/plain": [
              "(800, 200, 800, 200)"
            ]
          },
          "execution_count": 8,
          "metadata": {},
          "output_type": "execute_result"
        }
      ],
      "source": [
        "## split data into train and test sets\n",
        "from sklearn.model_selection import train_test_split\n",
        "x_train, x_test, y_train, y_test = train_test_split(x, y, test_size = 0.2, random_state = 42)\n",
        "\n",
        "len(x_train), len(x_test), len(y_train), len(y_test)"
      ]
    },
    {
      "cell_type": "markdown",
      "metadata": {
        "id": "wcANzJ_vRFBT"
      },
      "source": [
        "## 2. Building a model\n",
        "\n",
        "Let's build a model to classify the dots of inner circle and outer circle.\n",
        "\n",
        "To do so, we want to:\n",
        "\n",
        "1. Setup the device agnostic code.\n",
        "2. Construct a model (by inheriting `nn.Module` class)\n",
        "3. Define a loss function and optimizer\n",
        "4. Create a training and test loop"
      ]
    },
    {
      "cell_type": "code",
      "execution_count": 9,
      "metadata": {
        "colab": {
          "base_uri": "https://localhost:8080/",
          "height": 36
        },
        "id": "wDgcUuU2RG8Z",
        "outputId": "46c2e332-7736-443e-8e08-d2228407eca0"
      },
      "outputs": [
        {
          "data": {
            "text/plain": [
              "'cuda'"
            ]
          },
          "execution_count": 9,
          "metadata": {},
          "output_type": "execute_result"
        }
      ],
      "source": [
        "# make device agnostic code\n",
        "device = \"cuda\" if torch.cuda.is_available() else \"cpu\"\n",
        "device"
      ]
    },
    {
      "cell_type": "code",
      "execution_count": 10,
      "metadata": {
        "colab": {
          "base_uri": "https://localhost:8080/"
        },
        "id": "df9Vs7jJSNLy",
        "outputId": "549b9258-8109-4815-ecee-a7e5b514793b"
      },
      "outputs": [
        {
          "data": {
            "text/plain": [
              "CircleModelV0(\n",
              "  (layer_1): Linear(in_features=2, out_features=5, bias=True)\n",
              "  (layer_2): Linear(in_features=5, out_features=1, bias=True)\n",
              ")"
            ]
          },
          "execution_count": 10,
          "metadata": {},
          "output_type": "execute_result"
        }
      ],
      "source": [
        "# build a model\n",
        "\n",
        "class CircleModelV0(nn.Module):\n",
        "    def __init__(self):\n",
        "        super().__init__()\n",
        "\n",
        "        # create linear layers capable of handling the shapes of our data\n",
        "        self.layer_1 = nn.Linear(in_features=2,  # 2 in_feature -> (x, y) and upscales to 5 features\n",
        "                                 out_features=5)\n",
        "\n",
        "        self.layer_2 = nn.Linear(in_features=5, out_features=1)  # takes in 5 features from previous layer and output single feature (same shape as y)\n",
        "\n",
        "    def forward(self, x):\n",
        "        return self.layer_2(self.layer_1(x))  # x -> layer_1 -> layer_2\n",
        "\n",
        "\n",
        "# instanciate an instance of above model class\n",
        "model_0 = CircleModelV0().to(device)\n",
        "model_0"
      ]
    },
    {
      "cell_type": "markdown",
      "metadata": {
        "id": "BghaiPfnxgP0"
      },
      "source": [
        "####  Why `nn.Linear`?\n",
        "\n",
        "You're feeding your model **two numbers** (x and y coordinates from your circle dataset) and you want the model to learn how to **draw a line (or combination of lines)** to separate inside vs outside of the circle.\n",
        "\n",
        "But since circles are **non-linear AF**, you can't just use one straight line. So...\n",
        "\n",
        "\n",
        "####  `nn.Linear` stacks help us:\n",
        "\n",
        "1. **Transform your data** using weights + bias  \n",
        "2. **Pass it through activation functions** (like `ReLU`, `Sigmoid`, etc.)  \n",
        "3. **Build non-linear decision boundaries** with combos of linear layers  \n",
        "4. **Learn which inputs belong to class 0 or 1**\n",
        "\n",
        "\n",
        "####  Summary:\n",
        "\n",
        "- You define the *task*\n",
        "- PyTorch handles the *math*\n",
        "- `nn.Linear` is the backbone for learning patterns  \n",
        "- Without it, your model is just a dummy staring at data like “huh?”\n"
      ]
    },
    {
      "cell_type": "code",
      "execution_count": 11,
      "metadata": {
        "colab": {
          "base_uri": "https://localhost:8080/"
        },
        "id": "DhPJptY1KHa7",
        "outputId": "b633c83d-596b-45a9-aacb-28526866e0cf"
      },
      "outputs": [
        {
          "data": {
            "text/plain": [
              "Sequential(\n",
              "  (0): Linear(in_features=2, out_features=5, bias=True)\n",
              "  (1): Linear(in_features=5, out_features=1, bias=True)\n",
              ")"
            ]
          },
          "execution_count": 11,
          "metadata": {},
          "output_type": "execute_result"
        }
      ],
      "source": [
        "# replicate the model above using nn.Sequential()\n",
        "\n",
        "model_0 = nn.Sequential(\n",
        "    nn.Linear(in_features=2, out_features=5),\n",
        "    nn.Linear(in_features=5, out_features=1)\n",
        ").to(device)\n",
        "\n",
        "model_0"
      ]
    },
    {
      "cell_type": "code",
      "execution_count": 12,
      "metadata": {
        "colab": {
          "base_uri": "https://localhost:8080/"
        },
        "id": "mt0orZrGKgl7",
        "outputId": "7c6a8534-d17e-4539-bcc4-bb88146075bb"
      },
      "outputs": [
        {
          "data": {
            "text/plain": [
              "OrderedDict([('0.weight',\n",
              "              tensor([[-0.2840,  0.4116],\n",
              "                      [ 0.1766, -0.5337],\n",
              "                      [ 0.4118,  0.3683],\n",
              "                      [-0.5701,  0.5671],\n",
              "                      [-0.5736,  0.3162]], device='cuda:0')),\n",
              "             ('0.bias',\n",
              "              tensor([-0.4682, -0.0674, -0.3274,  0.6791,  0.5222], device='cuda:0')),\n",
              "             ('1.weight',\n",
              "              tensor([[ 0.1590,  0.1923, -0.1505,  0.2020,  0.0306]], device='cuda:0')),\n",
              "             ('1.bias', tensor([-0.2735], device='cuda:0'))])"
            ]
          },
          "execution_count": 12,
          "metadata": {},
          "output_type": "execute_result"
        }
      ],
      "source": [
        "model_0.state_dict()"
      ]
    },
    {
      "cell_type": "code",
      "execution_count": 13,
      "metadata": {
        "colab": {
          "base_uri": "https://localhost:8080/"
        },
        "id": "umBwRrWpzD3S",
        "outputId": "cc0094cb-d0da-4727-99ae-d890505a0502"
      },
      "outputs": [
        {
          "name": "stdout",
          "output_type": "stream",
          "text": [
            "Predictions: tensor([[-0.0596],\n",
            "        [-0.1312],\n",
            "        [-0.0237],\n",
            "        [-0.0691],\n",
            "        [-0.2649],\n",
            "        [-0.3067],\n",
            "        [-0.3173],\n",
            "        [-0.3590],\n",
            "        [-0.0136],\n",
            "        [-0.1387],\n",
            "        [-0.0367],\n",
            "        [-0.0909],\n",
            "        [-0.3466],\n",
            "        [-0.0563],\n",
            "        [ 0.0214],\n",
            "        [-0.3191],\n",
            "        [-0.2159],\n",
            "        [ 0.0049],\n",
            "        [-0.0225],\n",
            "        [ 0.0278],\n",
            "        [-0.1298],\n",
            "        [-0.3732],\n",
            "        [-0.0074],\n",
            "        [ 0.0349],\n",
            "        [-0.2660],\n",
            "        [-0.3310],\n",
            "        [-0.1407],\n",
            "        [-0.3520],\n",
            "        [ 0.0382],\n",
            "        [-0.0929],\n",
            "        [-0.2704],\n",
            "        [-0.2535],\n",
            "        [-0.0481],\n",
            "        [-0.1998],\n",
            "        [-0.0285],\n",
            "        [-0.1588],\n",
            "        [-0.0781],\n",
            "        [-0.0442],\n",
            "        [-0.1650],\n",
            "        [-0.0721],\n",
            "        [ 0.0012],\n",
            "        [ 0.0016],\n",
            "        [-0.2190],\n",
            "        [-0.2726],\n",
            "        [-0.0458],\n",
            "        [-0.1726],\n",
            "        [-0.2982],\n",
            "        [-0.1234],\n",
            "        [-0.1451],\n",
            "        [-0.2895],\n",
            "        [-0.0640],\n",
            "        [-0.0477],\n",
            "        [-0.3555],\n",
            "        [-0.2469],\n",
            "        [-0.3020],\n",
            "        [-0.1223],\n",
            "        [-0.3166],\n",
            "        [-0.0434],\n",
            "        [ 0.0134],\n",
            "        [ 0.0501],\n",
            "        [-0.2834],\n",
            "        [-0.3400],\n",
            "        [ 0.0412],\n",
            "        [-0.0757],\n",
            "        [-0.0716],\n",
            "        [-0.1276],\n",
            "        [-0.3244],\n",
            "        [-0.3633],\n",
            "        [-0.1701],\n",
            "        [-0.3553],\n",
            "        [-0.3157],\n",
            "        [-0.1880],\n",
            "        [ 0.0493],\n",
            "        [-0.0054],\n",
            "        [-0.3288],\n",
            "        [-0.3074],\n",
            "        [-0.1649],\n",
            "        [-0.2916],\n",
            "        [-0.0134],\n",
            "        [-0.2466],\n",
            "        [ 0.0321],\n",
            "        [-0.0684],\n",
            "        [-0.3437],\n",
            "        [-0.1629],\n",
            "        [ 0.0134],\n",
            "        [-0.2091],\n",
            "        [-0.3208],\n",
            "        [-0.0656],\n",
            "        [-0.2161],\n",
            "        [-0.3740],\n",
            "        [-0.0133],\n",
            "        [-0.1841],\n",
            "        [-0.1583],\n",
            "        [-0.2450],\n",
            "        [-0.0489],\n",
            "        [ 0.0062],\n",
            "        [-0.1634],\n",
            "        [ 0.0132],\n",
            "        [ 0.0438],\n",
            "        [-0.2143],\n",
            "        [-0.1352],\n",
            "        [ 0.0348],\n",
            "        [-0.1961],\n",
            "        [-0.3149],\n",
            "        [ 0.0418],\n",
            "        [-0.1940],\n",
            "        [-0.1540],\n",
            "        [-0.2959],\n",
            "        [-0.0432],\n",
            "        [-0.3140],\n",
            "        [-0.1348],\n",
            "        [-0.0285],\n",
            "        [-0.2156],\n",
            "        [-0.2994],\n",
            "        [-0.3364],\n",
            "        [-0.1381],\n",
            "        [-0.1093],\n",
            "        [-0.0188],\n",
            "        [-0.1273],\n",
            "        [-0.1645],\n",
            "        [ 0.0055],\n",
            "        [-0.1724],\n",
            "        [-0.3526],\n",
            "        [ 0.0207],\n",
            "        [-0.3355],\n",
            "        [-0.1153],\n",
            "        [-0.0302],\n",
            "        [-0.2274],\n",
            "        [-0.1044],\n",
            "        [-0.2700],\n",
            "        [ 0.0185],\n",
            "        [-0.3156],\n",
            "        [-0.1768],\n",
            "        [-0.1788],\n",
            "        [-0.2054],\n",
            "        [-0.3335],\n",
            "        [-0.2211],\n",
            "        [-0.0847],\n",
            "        [ 0.0408],\n",
            "        [-0.2098],\n",
            "        [-0.0052],\n",
            "        [-0.2540],\n",
            "        [ 0.0236],\n",
            "        [-0.0337],\n",
            "        [ 0.0043],\n",
            "        [-0.2201],\n",
            "        [-0.2964],\n",
            "        [-0.0104],\n",
            "        [-0.2299],\n",
            "        [-0.0781],\n",
            "        [-0.3216],\n",
            "        [-0.2817],\n",
            "        [-0.0005],\n",
            "        [ 0.0285],\n",
            "        [-0.3214],\n",
            "        [-0.1923],\n",
            "        [-0.2473],\n",
            "        [-0.0046],\n",
            "        [-0.0203],\n",
            "        [ 0.0146],\n",
            "        [-0.0599],\n",
            "        [-0.3202],\n",
            "        [-0.1034],\n",
            "        [ 0.0020],\n",
            "        [-0.2064],\n",
            "        [-0.2862],\n",
            "        [-0.3515],\n",
            "        [-0.0272],\n",
            "        [-0.3290],\n",
            "        [-0.1959],\n",
            "        [-0.2246],\n",
            "        [-0.1983],\n",
            "        [-0.3069],\n",
            "        [-0.3447],\n",
            "        [-0.3210],\n",
            "        [-0.3401],\n",
            "        [-0.2335],\n",
            "        [-0.3526],\n",
            "        [-0.2230],\n",
            "        [-0.2511],\n",
            "        [-0.2951],\n",
            "        [ 0.0054],\n",
            "        [-0.2508],\n",
            "        [-0.0896],\n",
            "        [ 0.0125],\n",
            "        [ 0.0465],\n",
            "        [-0.1047],\n",
            "        [-0.3351],\n",
            "        [-0.1019],\n",
            "        [-0.2656],\n",
            "        [ 0.0500],\n",
            "        [-0.0338],\n",
            "        [-0.2242],\n",
            "        [-0.2530],\n",
            "        [-0.0855],\n",
            "        [-0.2972],\n",
            "        [ 0.0027],\n",
            "        [-0.3579],\n",
            "        [-0.0064],\n",
            "        [-0.1957]], device='cuda:0')\n"
          ]
        }
      ],
      "source": [
        "# make predictions\n",
        "\n",
        "with torch.inference_mode():\n",
        "    untrained_preds = model_0(x_test.to(device))\n",
        "\n",
        "print(f\"Predictions: {untrained_preds}\")"
      ]
    },
    {
      "cell_type": "markdown",
      "metadata": {
        "id": "PWIjtZrJ9GFU"
      },
      "source": [
        "### Setup Loss Function & Optimizer\n",
        "\n",
        "For classfication you might want binary cross entropy or categorical entropy (cross entropy)\n",
        "\n",
        "#### Difference Between `BCELoss` and `BCEWithLogitsLoss` in PyTorch\n",
        "\n",
        "| Feature               | `BCELoss`                       | `BCEWithLogitsLoss`                          |\n",
        "|-----------------------|----------------------------------|----------------------------------------------|\n",
        "| **Input type**        | Probabilities (0–1)             | Raw logits (any real number)                 |\n",
        "| **Sigmoid needed?**   | YES (you add it manually)       | NO (it's built-in)                           |\n",
        "| **Numerical stability** | Lower                          | Higher (uses log-sum-exp trick internally)   |\n",
        "| **Preferred in practice?** | Not really                  | YES                                        |\n"
      ]
    },
    {
      "cell_type": "code",
      "execution_count": 14,
      "metadata": {
        "id": "81JbwG3Q9TGu"
      },
      "outputs": [],
      "source": [
        "# setup the loss funnction\n",
        "loss_fn = nn.BCEWithLogitsLoss()\n",
        "\n",
        "# setup the optimizer\n",
        "optimizer = torch.optim.SGD(params=model_0.parameters(), lr = 0.1)"
      ]
    },
    {
      "cell_type": "markdown",
      "metadata": {
        "id": "QNyNP7qiLpHD"
      },
      "source": [
        "## Train The Model"
      ]
    },
    {
      "cell_type": "markdown",
      "metadata": {
        "id": "pmQ1Q5PBREVE"
      },
      "source": [
        "### Going From Raw Logits -> Prediction Probabilities -> Prediction Label\n",
        "\n",
        "#### What is a Logit?\n",
        "\n",
        "A **logit** is the raw score (a.k.a. the **log-odds**) that comes out of a model **before** applying a sigmoid function.\n",
        "\n",
        "##### Think of it like this:\n",
        "\n",
        "Your model spits out a number (could be negative, zero, positive, whatever).  \n",
        "That number is the **logit**.\n",
        "\n",
        "You pass it through a **sigmoid function** to convert it into a probability between 0 and 1.\n",
        "\n",
        "Our model's outputs are going to be raw **logits**.\n",
        "\n",
        "We can convert these **logits** into prediction probabilities by passing them to some kind of activation function (e.g. sigmoid for binary classification and softmax for multiclass classification)\n",
        "\n",
        "Then we can convert our model's prediction probabilities to **prediction labels** by either rounding them or taking `argmax()`.\n",
        "\n",
        "##### What An Activation Function Does:\n",
        "\n",
        "- Takes the output from a neuron (like `weight * x + bias`)\n",
        "- Applies a **non-linear transformation**\n",
        "- Helps the model learn **complex patterns**\n",
        "\n",
        "\n",
        "##### Popular Activation Functions:\n",
        "\n",
        "| Name      | What it does                      | Use when                      |\n",
        "|-----------|-----------------------------------|-------------------------------|\n",
        "| `ReLU`    | Replaces negatives with 0         | Most common, fast, deep networks |\n",
        "| `Sigmoid` | Squashes output between 0 and 1   | Binary classification probs   |\n",
        "| `Tanh`    | Squashes between -1 and 1         | Works in some fancy setups    |\n",
        "| `Softmax` | Gives probs that all sum to 1     | Multi-class output            |\n"
      ]
    },
    {
      "cell_type": "code",
      "execution_count": 15,
      "metadata": {
        "colab": {
          "base_uri": "https://localhost:8080/"
        },
        "id": "ZJmVvTLARLq5",
        "outputId": "92d56aa5-fcc2-4d58-8e82-885e965b6f56"
      },
      "outputs": [
        {
          "data": {
            "text/plain": [
              "tensor([[-0.0596],\n",
              "        [-0.1312],\n",
              "        [-0.0237],\n",
              "        [-0.0691],\n",
              "        [-0.2649]], device='cuda:0')"
            ]
          },
          "execution_count": 15,
          "metadata": {},
          "output_type": "execute_result"
        }
      ],
      "source": [
        "model_0.eval()\n",
        "\n",
        "with torch.inference_mode():\n",
        "    y_logits = model_0(x_test.to(device))\n",
        "\n",
        "y_logits[:5]"
      ]
    },
    {
      "cell_type": "code",
      "execution_count": 16,
      "metadata": {
        "colab": {
          "base_uri": "https://localhost:8080/"
        },
        "id": "yyZsY6A0tLEY",
        "outputId": "688c0ffa-640d-441b-e9d4-c21a8a57c1ad"
      },
      "outputs": [
        {
          "data": {
            "text/plain": [
              "tensor([[0.4851],\n",
              "        [0.4672],\n",
              "        [0.4941],\n",
              "        [0.4827],\n",
              "        [0.4342]], device='cuda:0')"
            ]
          },
          "execution_count": 16,
          "metadata": {},
          "output_type": "execute_result"
        }
      ],
      "source": [
        "# use the sigmoid activation function on our logits to turn them into prediction probabilities\n",
        "y_pred_probs = torch.sigmoid(y_logits)\n",
        "y_pred_probs[:5]"
      ]
    },
    {
      "cell_type": "code",
      "execution_count": 17,
      "metadata": {
        "colab": {
          "base_uri": "https://localhost:8080/"
        },
        "id": "DVIsr2R3cPs8",
        "outputId": "4151a248-576c-40d8-8710-3f08dbeae2ab"
      },
      "outputs": [
        {
          "data": {
            "text/plain": [
              "tensor([[0.],\n",
              "        [0.],\n",
              "        [0.],\n",
              "        [0.],\n",
              "        [0.]], device='cuda:0')"
            ]
          },
          "execution_count": 17,
          "metadata": {},
          "output_type": "execute_result"
        }
      ],
      "source": [
        "torch.round(y_pred_probs)[:5]"
      ]
    },
    {
      "cell_type": "markdown",
      "metadata": {
        "id": "rg0BKBAWdj_J"
      },
      "source": [
        "### Building a Training & Test Loop"
      ]
    },
    {
      "cell_type": "code",
      "execution_count": 18,
      "metadata": {
        "colab": {
          "base_uri": "https://localhost:8080/"
        },
        "id": "GkAzxT7xeZMk",
        "outputId": "74a178f5-9016-4e59-a9c1-7602590c27fa"
      },
      "outputs": [
        {
          "name": "stdout",
          "output_type": "stream",
          "text": [
            "Epoch: 0 | Loss: 0.69882 | Test Loss: 0.69659\n",
            "Epoch: 10 | Loss: 0.69700 | Test Loss: 0.69489\n",
            "Epoch: 20 | Loss: 0.69614 | Test Loss: 0.69408\n",
            "Epoch: 30 | Loss: 0.69563 | Test Loss: 0.69361\n",
            "Epoch: 40 | Loss: 0.69527 | Test Loss: 0.69330\n",
            "Epoch: 50 | Loss: 0.69500 | Test Loss: 0.69307\n",
            "Epoch: 60 | Loss: 0.69477 | Test Loss: 0.69291\n",
            "Epoch: 70 | Loss: 0.69458 | Test Loss: 0.69278\n",
            "Epoch: 80 | Loss: 0.69443 | Test Loss: 0.69269\n",
            "Epoch: 90 | Loss: 0.69429 | Test Loss: 0.69263\n",
            "Epoch: 100 | Loss: 0.69417 | Test Loss: 0.69259\n",
            "Epoch: 110 | Loss: 0.69407 | Test Loss: 0.69256\n",
            "Epoch: 120 | Loss: 0.69397 | Test Loss: 0.69255\n",
            "Epoch: 130 | Loss: 0.69389 | Test Loss: 0.69255\n",
            "Epoch: 140 | Loss: 0.69382 | Test Loss: 0.69256\n",
            "Epoch: 150 | Loss: 0.69375 | Test Loss: 0.69258\n",
            "Epoch: 160 | Loss: 0.69369 | Test Loss: 0.69260\n",
            "Epoch: 170 | Loss: 0.69364 | Test Loss: 0.69263\n",
            "Epoch: 180 | Loss: 0.69359 | Test Loss: 0.69266\n",
            "Epoch: 190 | Loss: 0.69354 | Test Loss: 0.69269\n",
            "Epoch: 200 | Loss: 0.69350 | Test Loss: 0.69273\n",
            "Epoch: 210 | Loss: 0.69346 | Test Loss: 0.69277\n",
            "Epoch: 220 | Loss: 0.69343 | Test Loss: 0.69281\n",
            "Epoch: 230 | Loss: 0.69339 | Test Loss: 0.69285\n",
            "Epoch: 240 | Loss: 0.69336 | Test Loss: 0.69290\n",
            "Epoch: 250 | Loss: 0.69334 | Test Loss: 0.69294\n",
            "Epoch: 260 | Loss: 0.69331 | Test Loss: 0.69298\n",
            "Epoch: 270 | Loss: 0.69329 | Test Loss: 0.69303\n",
            "Epoch: 280 | Loss: 0.69326 | Test Loss: 0.69307\n",
            "Epoch: 290 | Loss: 0.69324 | Test Loss: 0.69311\n",
            "Epoch: 300 | Loss: 0.69323 | Test Loss: 0.69316\n",
            "Epoch: 310 | Loss: 0.69321 | Test Loss: 0.69320\n",
            "Epoch: 320 | Loss: 0.69319 | Test Loss: 0.69324\n",
            "Epoch: 330 | Loss: 0.69318 | Test Loss: 0.69329\n",
            "Epoch: 340 | Loss: 0.69316 | Test Loss: 0.69333\n",
            "Epoch: 350 | Loss: 0.69315 | Test Loss: 0.69337\n",
            "Epoch: 360 | Loss: 0.69314 | Test Loss: 0.69341\n",
            "Epoch: 370 | Loss: 0.69313 | Test Loss: 0.69345\n",
            "Epoch: 380 | Loss: 0.69312 | Test Loss: 0.69348\n",
            "Epoch: 390 | Loss: 0.69311 | Test Loss: 0.69352\n",
            "Epoch: 400 | Loss: 0.69310 | Test Loss: 0.69356\n",
            "Epoch: 410 | Loss: 0.69309 | Test Loss: 0.69359\n",
            "Epoch: 420 | Loss: 0.69308 | Test Loss: 0.69363\n",
            "Epoch: 430 | Loss: 0.69307 | Test Loss: 0.69366\n",
            "Epoch: 440 | Loss: 0.69307 | Test Loss: 0.69370\n",
            "Epoch: 450 | Loss: 0.69306 | Test Loss: 0.69373\n",
            "Epoch: 460 | Loss: 0.69305 | Test Loss: 0.69376\n",
            "Epoch: 470 | Loss: 0.69305 | Test Loss: 0.69379\n",
            "Epoch: 480 | Loss: 0.69304 | Test Loss: 0.69382\n",
            "Epoch: 490 | Loss: 0.69304 | Test Loss: 0.69385\n",
            "Epoch: 500 | Loss: 0.69303 | Test Loss: 0.69388\n",
            "Epoch: 510 | Loss: 0.69303 | Test Loss: 0.69391\n",
            "Epoch: 520 | Loss: 0.69303 | Test Loss: 0.69393\n",
            "Epoch: 530 | Loss: 0.69302 | Test Loss: 0.69396\n",
            "Epoch: 540 | Loss: 0.69302 | Test Loss: 0.69398\n",
            "Epoch: 550 | Loss: 0.69302 | Test Loss: 0.69401\n",
            "Epoch: 560 | Loss: 0.69301 | Test Loss: 0.69403\n",
            "Epoch: 570 | Loss: 0.69301 | Test Loss: 0.69405\n",
            "Epoch: 580 | Loss: 0.69301 | Test Loss: 0.69408\n",
            "Epoch: 590 | Loss: 0.69301 | Test Loss: 0.69410\n",
            "Epoch: 600 | Loss: 0.69301 | Test Loss: 0.69412\n",
            "Epoch: 610 | Loss: 0.69300 | Test Loss: 0.69414\n",
            "Epoch: 620 | Loss: 0.69300 | Test Loss: 0.69416\n",
            "Epoch: 630 | Loss: 0.69300 | Test Loss: 0.69418\n",
            "Epoch: 640 | Loss: 0.69300 | Test Loss: 0.69419\n",
            "Epoch: 650 | Loss: 0.69300 | Test Loss: 0.69421\n",
            "Epoch: 660 | Loss: 0.69300 | Test Loss: 0.69423\n",
            "Epoch: 670 | Loss: 0.69299 | Test Loss: 0.69424\n",
            "Epoch: 680 | Loss: 0.69299 | Test Loss: 0.69426\n",
            "Epoch: 690 | Loss: 0.69299 | Test Loss: 0.69427\n",
            "Epoch: 700 | Loss: 0.69299 | Test Loss: 0.69429\n",
            "Epoch: 710 | Loss: 0.69299 | Test Loss: 0.69430\n",
            "Epoch: 720 | Loss: 0.69299 | Test Loss: 0.69432\n",
            "Epoch: 730 | Loss: 0.69299 | Test Loss: 0.69433\n",
            "Epoch: 740 | Loss: 0.69299 | Test Loss: 0.69434\n",
            "Epoch: 750 | Loss: 0.69299 | Test Loss: 0.69436\n",
            "Epoch: 760 | Loss: 0.69299 | Test Loss: 0.69437\n",
            "Epoch: 770 | Loss: 0.69299 | Test Loss: 0.69438\n",
            "Epoch: 780 | Loss: 0.69299 | Test Loss: 0.69439\n",
            "Epoch: 790 | Loss: 0.69299 | Test Loss: 0.69440\n",
            "Epoch: 800 | Loss: 0.69299 | Test Loss: 0.69441\n",
            "Epoch: 810 | Loss: 0.69298 | Test Loss: 0.69442\n",
            "Epoch: 820 | Loss: 0.69298 | Test Loss: 0.69443\n",
            "Epoch: 830 | Loss: 0.69298 | Test Loss: 0.69444\n",
            "Epoch: 840 | Loss: 0.69298 | Test Loss: 0.69445\n",
            "Epoch: 850 | Loss: 0.69298 | Test Loss: 0.69446\n",
            "Epoch: 860 | Loss: 0.69298 | Test Loss: 0.69447\n",
            "Epoch: 870 | Loss: 0.69298 | Test Loss: 0.69447\n",
            "Epoch: 880 | Loss: 0.69298 | Test Loss: 0.69448\n",
            "Epoch: 890 | Loss: 0.69298 | Test Loss: 0.69449\n"
          ]
        }
      ],
      "source": [
        "torch.manual_seed(42)\n",
        "\n",
        "epochs = 900\n",
        "\n",
        "# put the data to target device\n",
        "\n",
        "x_train, y_train = x_train.to(device), y_train.to(device)\n",
        "x_test, y_test = x_test.to(device), y_test.to(device)\n",
        "\n",
        "# build the training loop\n",
        "\n",
        "for epoch in range(epochs):\n",
        "    model_0.train()\n",
        "\n",
        "    # forward pass\n",
        "    y_logits =  model_0(x_train).squeeze()\n",
        "    y_preds = torch.round(torch.sigmoid(y_logits))\n",
        "\n",
        "    # calculate the loss\n",
        "    loss = loss_fn(y_logits,  # nn.BCELogitsWithLoss expects input as raw logits\n",
        "                   y_train)\n",
        "\n",
        "    optimizer.zero_grad()\n",
        "    loss.backward()\n",
        "    optimizer.step()\n",
        "\n",
        "    # testing\n",
        "    model_0.eval()\n",
        "\n",
        "    with torch.inference_mode():\n",
        "        # forward pass\n",
        "        test_logits = model_0(x_test).squeeze()\n",
        "        test_pred = torch.round(torch.sigmoid(test_logits))\n",
        "\n",
        "        # calculate the loss\n",
        "        test_loss = loss_fn(test_logits, y_test)\n",
        "\n",
        "    # print out to see the output\n",
        "\n",
        "    if epoch % 10 == 0:\n",
        "        print(f\"Epoch: {epoch} | Loss: {loss:.5f} | Test Loss: {test_loss:.5f}\")\n"
      ]
    },
    {
      "cell_type": "markdown",
      "metadata": {
        "id": "cJm2MVFDsvTX"
      },
      "source": [
        "### Improving The Model\n",
        "\n",
        "* Add more layers - give the model more chances to learn about patterns in the data\n",
        "* Add more hidden units - go from 5 hidden units to 10 hidden units\n",
        "* Fit for longer\n",
        "* Changing the activation function\n",
        "* Change the learning rate\n",
        "* Change the loss function"
      ]
    },
    {
      "cell_type": "code",
      "execution_count": 19,
      "metadata": {
        "colab": {
          "base_uri": "https://localhost:8080/"
        },
        "id": "mLokrinS6RnL",
        "outputId": "0dcc31f2-de41-44af-9076-782068581c20"
      },
      "outputs": [
        {
          "data": {
            "text/plain": [
              "CircleModelV1(\n",
              "  (layer_1): Linear(in_features=2, out_features=10, bias=True)\n",
              "  (layer_2): Linear(in_features=10, out_features=10, bias=True)\n",
              "  (layer_3): Linear(in_features=10, out_features=1, bias=True)\n",
              ")"
            ]
          },
          "execution_count": 19,
          "metadata": {},
          "output_type": "execute_result"
        }
      ],
      "source": [
        "class CircleModelV1(nn.Module):\n",
        "    def __init__(self):\n",
        "        super().__init__()\n",
        "\n",
        "        self.layer_1 = nn.Linear(in_features=2, out_features=10)\n",
        "        self.layer_2 = nn.Linear(in_features=10, out_features=10)\n",
        "        self.layer_3 = nn.Linear(in_features=10, out_features=1)\n",
        "\n",
        "    def forward(self, x):\n",
        "        return self.layer_3(self.layer_2(self.layer_1(x)))\n",
        "\n",
        "\n",
        "model_1 = CircleModelV1().to(device)\n",
        "model_1"
      ]
    },
    {
      "cell_type": "code",
      "execution_count": 20,
      "metadata": {
        "id": "QfTg6rbM78r7"
      },
      "outputs": [],
      "source": [
        "# create a loss function\n",
        "loss_fn = nn.BCEWithLogitsLoss()\n",
        "\n",
        "# create an optimizer\n",
        "optimizer = torch.optim.SGD(params =model_1.parameters(), lr = 0.1)"
      ]
    },
    {
      "cell_type": "code",
      "execution_count": 21,
      "metadata": {
        "colab": {
          "base_uri": "https://localhost:8080/"
        },
        "id": "39n5xdgi8Vix",
        "outputId": "43426fb2-acd3-400c-8faf-f713d2dd1d5c"
      },
      "outputs": [
        {
          "name": "stdout",
          "output_type": "stream",
          "text": [
            "Epoch: 0 | Loss: 0.69396 | Test Loss: 0.69261\n",
            "Epoch: 10 | Loss: 0.69369 | Test Loss: 0.69270\n",
            "Epoch: 20 | Loss: 0.69351 | Test Loss: 0.69283\n",
            "Epoch: 30 | Loss: 0.69339 | Test Loss: 0.69297\n",
            "Epoch: 40 | Loss: 0.69329 | Test Loss: 0.69310\n",
            "Epoch: 50 | Loss: 0.69322 | Test Loss: 0.69324\n",
            "Epoch: 60 | Loss: 0.69317 | Test Loss: 0.69336\n",
            "Epoch: 70 | Loss: 0.69312 | Test Loss: 0.69348\n",
            "Epoch: 80 | Loss: 0.69309 | Test Loss: 0.69359\n",
            "Epoch: 90 | Loss: 0.69307 | Test Loss: 0.69370\n",
            "Epoch: 100 | Loss: 0.69305 | Test Loss: 0.69379\n",
            "Epoch: 110 | Loss: 0.69303 | Test Loss: 0.69388\n",
            "Epoch: 120 | Loss: 0.69302 | Test Loss: 0.69396\n",
            "Epoch: 130 | Loss: 0.69301 | Test Loss: 0.69403\n",
            "Epoch: 140 | Loss: 0.69301 | Test Loss: 0.69409\n",
            "Epoch: 150 | Loss: 0.69300 | Test Loss: 0.69415\n",
            "Epoch: 160 | Loss: 0.69300 | Test Loss: 0.69421\n",
            "Epoch: 170 | Loss: 0.69299 | Test Loss: 0.69425\n",
            "Epoch: 180 | Loss: 0.69299 | Test Loss: 0.69430\n",
            "Epoch: 190 | Loss: 0.69299 | Test Loss: 0.69434\n",
            "Epoch: 200 | Loss: 0.69299 | Test Loss: 0.69437\n",
            "Epoch: 210 | Loss: 0.69298 | Test Loss: 0.69440\n",
            "Epoch: 220 | Loss: 0.69298 | Test Loss: 0.69443\n",
            "Epoch: 230 | Loss: 0.69298 | Test Loss: 0.69446\n",
            "Epoch: 240 | Loss: 0.69298 | Test Loss: 0.69448\n",
            "Epoch: 250 | Loss: 0.69298 | Test Loss: 0.69450\n",
            "Epoch: 260 | Loss: 0.69298 | Test Loss: 0.69452\n",
            "Epoch: 270 | Loss: 0.69298 | Test Loss: 0.69454\n",
            "Epoch: 280 | Loss: 0.69298 | Test Loss: 0.69455\n",
            "Epoch: 290 | Loss: 0.69298 | Test Loss: 0.69456\n",
            "Epoch: 300 | Loss: 0.69298 | Test Loss: 0.69458\n",
            "Epoch: 310 | Loss: 0.69298 | Test Loss: 0.69459\n",
            "Epoch: 320 | Loss: 0.69298 | Test Loss: 0.69460\n",
            "Epoch: 330 | Loss: 0.69298 | Test Loss: 0.69461\n",
            "Epoch: 340 | Loss: 0.69298 | Test Loss: 0.69461\n",
            "Epoch: 350 | Loss: 0.69298 | Test Loss: 0.69462\n",
            "Epoch: 360 | Loss: 0.69298 | Test Loss: 0.69463\n",
            "Epoch: 370 | Loss: 0.69298 | Test Loss: 0.69463\n",
            "Epoch: 380 | Loss: 0.69298 | Test Loss: 0.69464\n",
            "Epoch: 390 | Loss: 0.69298 | Test Loss: 0.69464\n",
            "Epoch: 400 | Loss: 0.69298 | Test Loss: 0.69465\n",
            "Epoch: 410 | Loss: 0.69298 | Test Loss: 0.69465\n",
            "Epoch: 420 | Loss: 0.69298 | Test Loss: 0.69465\n",
            "Epoch: 430 | Loss: 0.69298 | Test Loss: 0.69465\n",
            "Epoch: 440 | Loss: 0.69298 | Test Loss: 0.69466\n",
            "Epoch: 450 | Loss: 0.69298 | Test Loss: 0.69466\n",
            "Epoch: 460 | Loss: 0.69298 | Test Loss: 0.69466\n",
            "Epoch: 470 | Loss: 0.69298 | Test Loss: 0.69466\n",
            "Epoch: 480 | Loss: 0.69298 | Test Loss: 0.69467\n",
            "Epoch: 490 | Loss: 0.69298 | Test Loss: 0.69467\n",
            "Epoch: 500 | Loss: 0.69298 | Test Loss: 0.69467\n",
            "Epoch: 510 | Loss: 0.69298 | Test Loss: 0.69467\n",
            "Epoch: 520 | Loss: 0.69298 | Test Loss: 0.69467\n",
            "Epoch: 530 | Loss: 0.69298 | Test Loss: 0.69467\n",
            "Epoch: 540 | Loss: 0.69298 | Test Loss: 0.69467\n",
            "Epoch: 550 | Loss: 0.69298 | Test Loss: 0.69467\n",
            "Epoch: 560 | Loss: 0.69298 | Test Loss: 0.69467\n",
            "Epoch: 570 | Loss: 0.69298 | Test Loss: 0.69467\n",
            "Epoch: 580 | Loss: 0.69298 | Test Loss: 0.69467\n",
            "Epoch: 590 | Loss: 0.69298 | Test Loss: 0.69468\n",
            "Epoch: 600 | Loss: 0.69298 | Test Loss: 0.69468\n",
            "Epoch: 610 | Loss: 0.69298 | Test Loss: 0.69468\n",
            "Epoch: 620 | Loss: 0.69298 | Test Loss: 0.69468\n",
            "Epoch: 630 | Loss: 0.69298 | Test Loss: 0.69468\n",
            "Epoch: 640 | Loss: 0.69298 | Test Loss: 0.69468\n",
            "Epoch: 650 | Loss: 0.69298 | Test Loss: 0.69468\n",
            "Epoch: 660 | Loss: 0.69298 | Test Loss: 0.69468\n",
            "Epoch: 670 | Loss: 0.69298 | Test Loss: 0.69468\n",
            "Epoch: 680 | Loss: 0.69298 | Test Loss: 0.69468\n",
            "Epoch: 690 | Loss: 0.69298 | Test Loss: 0.69468\n",
            "Epoch: 700 | Loss: 0.69298 | Test Loss: 0.69468\n",
            "Epoch: 710 | Loss: 0.69298 | Test Loss: 0.69468\n",
            "Epoch: 720 | Loss: 0.69298 | Test Loss: 0.69468\n",
            "Epoch: 730 | Loss: 0.69298 | Test Loss: 0.69468\n",
            "Epoch: 740 | Loss: 0.69298 | Test Loss: 0.69468\n",
            "Epoch: 750 | Loss: 0.69298 | Test Loss: 0.69468\n",
            "Epoch: 760 | Loss: 0.69298 | Test Loss: 0.69468\n",
            "Epoch: 770 | Loss: 0.69298 | Test Loss: 0.69468\n",
            "Epoch: 780 | Loss: 0.69298 | Test Loss: 0.69468\n",
            "Epoch: 790 | Loss: 0.69298 | Test Loss: 0.69468\n",
            "Epoch: 800 | Loss: 0.69298 | Test Loss: 0.69468\n",
            "Epoch: 810 | Loss: 0.69298 | Test Loss: 0.69468\n",
            "Epoch: 820 | Loss: 0.69298 | Test Loss: 0.69468\n",
            "Epoch: 830 | Loss: 0.69298 | Test Loss: 0.69468\n",
            "Epoch: 840 | Loss: 0.69298 | Test Loss: 0.69468\n",
            "Epoch: 850 | Loss: 0.69298 | Test Loss: 0.69468\n",
            "Epoch: 860 | Loss: 0.69298 | Test Loss: 0.69468\n",
            "Epoch: 870 | Loss: 0.69298 | Test Loss: 0.69468\n",
            "Epoch: 880 | Loss: 0.69298 | Test Loss: 0.69468\n",
            "Epoch: 890 | Loss: 0.69298 | Test Loss: 0.69468\n",
            "Epoch: 900 | Loss: 0.69298 | Test Loss: 0.69468\n",
            "Epoch: 910 | Loss: 0.69298 | Test Loss: 0.69468\n",
            "Epoch: 920 | Loss: 0.69298 | Test Loss: 0.69468\n",
            "Epoch: 930 | Loss: 0.69298 | Test Loss: 0.69468\n",
            "Epoch: 940 | Loss: 0.69298 | Test Loss: 0.69468\n",
            "Epoch: 950 | Loss: 0.69298 | Test Loss: 0.69468\n",
            "Epoch: 960 | Loss: 0.69298 | Test Loss: 0.69468\n",
            "Epoch: 970 | Loss: 0.69298 | Test Loss: 0.69468\n",
            "Epoch: 980 | Loss: 0.69298 | Test Loss: 0.69468\n",
            "Epoch: 990 | Loss: 0.69298 | Test Loss: 0.69468\n"
          ]
        }
      ],
      "source": [
        "# build training and test loop\n",
        "\n",
        "torch.manual_seed(42)\n",
        "\n",
        "epochs = 1000\n",
        "\n",
        "x_train, y_train = x_train.to(device), y_train.to(device)\n",
        "x_test, y_test = x_test.to(device), y_test.to(device)\n",
        "\n",
        "for epoch in range(epochs):\n",
        "    model_1.train()\n",
        "\n",
        "    y_logits = model_1(x_train).squeeze()\n",
        "\n",
        "    loss = loss_fn(y_logits, y_train)\n",
        "\n",
        "    optimizer.zero_grad()\n",
        "\n",
        "    loss.backward()\n",
        "\n",
        "    optimizer.step()\n",
        "\n",
        "    # testing\n",
        "\n",
        "    model_1.eval()\n",
        "\n",
        "    with torch.inference_mode():\n",
        "        # forward pass\n",
        "        test_logits = model_1(x_test).squeeze()\n",
        "\n",
        "        # calculate the loss\n",
        "        test_loss = loss_fn(test_logits, y_test)\n",
        "\n",
        "    # print out what's happening\n",
        "\n",
        "    if epoch % 10 == 0:\n",
        "        print(f\"Epoch: {epoch} | Loss: {loss:.5f} | Test Loss: {test_loss:.5f}\")"
      ]
    },
    {
      "cell_type": "markdown",
      "metadata": {
        "id": "KDZqP_mCXWeL"
      },
      "source": [
        "## The Missing Piece: Non-Linearity"
      ]
    },
    {
      "cell_type": "markdown",
      "metadata": {
        "id": "Rt0Y4DCQZhZb"
      },
      "source": [
        "### Build a Model With Non Linearity"
      ]
    },
    {
      "cell_type": "code",
      "execution_count": 26,
      "metadata": {
        "colab": {
          "base_uri": "https://localhost:8080/"
        },
        "id": "0xiV40gzZmHP",
        "outputId": "91521fa3-2d8a-48ac-b28b-0688c010f9fa"
      },
      "outputs": [
        {
          "data": {
            "text/plain": [
              "CircleModelV2(\n",
              "  (layer_1): Linear(in_features=2, out_features=10, bias=True)\n",
              "  (layer_2): Linear(in_features=10, out_features=10, bias=True)\n",
              "  (layer_3): Linear(in_features=10, out_features=1, bias=True)\n",
              "  (relu): ReLU()\n",
              ")"
            ]
          },
          "execution_count": 26,
          "metadata": {},
          "output_type": "execute_result"
        }
      ],
      "source": [
        "class CircleModelV2(nn.Module):\n",
        "    def __init__(self):\n",
        "        super().__init__()\n",
        "\n",
        "        self.layer_1 = nn.Linear(in_features=2, out_features=10)\n",
        "        self.layer_2 = nn.Linear(in_features=10, out_features=10)\n",
        "        self.layer_3 = nn.Linear(in_features=10, out_features=1)\n",
        "        self.relu = nn.ReLU()   # non-linear activation function\n",
        "\n",
        "    def forward(self, x):\n",
        "        return self.layer_3(self.relu(self.layer_2(self.relu(self.layer_1(x)))))\n",
        "\n",
        "model_3 = CircleModelV2().to(device)\n",
        "model_3"
      ]
    },
    {
      "cell_type": "code",
      "execution_count": 27,
      "metadata": {
        "id": "3LWfrUTbd0em"
      },
      "outputs": [],
      "source": [
        "# setup the loss and optimizer\n",
        "loss_fn = nn.BCEWithLogitsLoss()\n",
        "\n",
        "optimizer = torch.optim.SGD(params=model_3.parameters(), lr= 0.1)"
      ]
    },
    {
      "cell_type": "markdown",
      "metadata": {
        "id": "uxt3_8N7fNEi"
      },
      "source": [
        "### Training The Model With Non-Linearity\n",
        "\n"
      ]
    },
    {
      "cell_type": "code",
      "execution_count": 28,
      "metadata": {
        "colab": {
          "base_uri": "https://localhost:8080/"
        },
        "id": "13s9aQo-fYFD",
        "outputId": "bf1eba6b-3092-4a0c-e5c6-4d7d7bb8c89a"
      },
      "outputs": [
        {
          "name": "stdout",
          "output_type": "stream",
          "text": [
            "Epoch: 0 | Loss: 0.69295 | Test loss: 0.69319\n",
            "Epoch: 100 | Loss: 0.69115 | Test loss: 0.69102\n",
            "Epoch: 200 | Loss: 0.68977 | Test loss: 0.68940\n",
            "Epoch: 300 | Loss: 0.68795 | Test loss: 0.68723\n",
            "Epoch: 400 | Loss: 0.68517 | Test loss: 0.68411\n",
            "Epoch: 500 | Loss: 0.68102 | Test loss: 0.67941\n",
            "Epoch: 600 | Loss: 0.67515 | Test loss: 0.67285\n",
            "Epoch: 700 | Loss: 0.66659 | Test loss: 0.66322\n",
            "Epoch: 800 | Loss: 0.65160 | Test loss: 0.64757\n",
            "Epoch: 900 | Loss: 0.62362 | Test loss: 0.62145\n"
          ]
        }
      ],
      "source": [
        "torch.manual_seed(42)\n",
        "\n",
        "x_train, y_train = x_train.to(device), y_train.to(device)\n",
        "x_test, y_test = x_test.to(device), y_test.to(device)\n",
        "\n",
        "epochs = 1000\n",
        "\n",
        "for epoch in range(epochs):\n",
        "    model_3.train()\n",
        "\n",
        "    # forwrd pass\n",
        "    y_logits = model_3(x_train).squeeze()\n",
        "\n",
        "    # calculate the loss\n",
        "    loss = loss_fn(y_logits, y_train)\n",
        "\n",
        "    optimizer.zero_grad()\n",
        "    loss.backward()\n",
        "    optimizer.step()\n",
        "\n",
        "    # testing\n",
        "    model_3.eval()\n",
        "\n",
        "    with torch.inference_mode():\n",
        "        # forward pass\n",
        "        test_logits = model_3(x_test).squeeze()\n",
        "\n",
        "        # calcualte the loss\n",
        "        test_loss = loss_fn(test_logits, y_test)\n",
        "\n",
        "    # print out what's happening\n",
        "\n",
        "    if epoch % 100 == 0:\n",
        "        print(f\"Epoch: {epoch} | Loss: {loss:.5f} | Test loss: {test_loss:.5f}\")"
      ]
    },
    {
      "cell_type": "markdown",
      "metadata": {
        "id": "pJRXEgLNBOxS"
      },
      "source": [
        "## Replicating Non-Linear Activation Function\n",
        "\n",
        "Neural networks rather than telling us the model what to learn, we give it the tools to discover patterns in data and it tries to figure out the patterns on its own.\n",
        "\n",
        "Those tools are linear & non-linear functions."
      ]
    },
    {
      "cell_type": "code",
      "execution_count": 29,
      "metadata": {
        "colab": {
          "base_uri": "https://localhost:8080/"
        },
        "id": "qKbEV7igBuAk",
        "outputId": "63c9c9f0-ae58-4af4-e90f-a495c97793c4"
      },
      "outputs": [
        {
          "data": {
            "text/plain": [
              "tensor([-10.,  -9.,  -8.,  -7.,  -6.,  -5.,  -4.,  -3.,  -2.,  -1.,   0.,   1.,\n",
              "          2.,   3.,   4.,   5.,   6.,   7.,   8.,   9.])"
            ]
          },
          "execution_count": 29,
          "metadata": {},
          "output_type": "execute_result"
        }
      ],
      "source": [
        "# create a tensor\n",
        "A = torch.arange(-10, 10, 1, dtype=torch.float32)\n",
        "A"
      ]
    },
    {
      "cell_type": "code",
      "execution_count": 30,
      "metadata": {
        "colab": {
          "base_uri": "https://localhost:8080/",
          "height": 447
        },
        "id": "2-GKBsVxB4ek",
        "outputId": "b2c66787-4bc3-4594-e337-76517b46dfa6"
      },
      "outputs": [
        {
          "data": {
            "text/plain": [
              "[<matplotlib.lines.Line2D at 0x7011772f75c0>]"
            ]
          },
          "execution_count": 30,
          "metadata": {},
          "output_type": "execute_result"
        },
        {
          "data": {
            "image/png": "[encoded data removed]",
            "text/plain": [
              "<Figure size 640x480 with 1 Axes>"
            ]
          },
          "metadata": {},
          "output_type": "display_data"
        }
      ],
      "source": [
        "# visualize the data\n",
        "plt.plot(A)"
      ]
    },
    {
      "cell_type": "code",
      "execution_count": 31,
      "metadata": {
        "colab": {
          "base_uri": "https://localhost:8080/",
          "height": 447
        },
        "id": "yDrkspB9C3kv",
        "outputId": "ad1e6bbc-2de8-422e-d649-e4292c4eeeda"
      },
      "outputs": [
        {
          "data": {
            "text/plain": [
              "[<matplotlib.lines.Line2D at 0x7011773aa690>]"
            ]
          },
          "execution_count": 31,
          "metadata": {},
          "output_type": "execute_result"
        },
        {
          "data": {
            "image/png": "[encoded data removed]",
            "text/plain": [
              "<Figure size 640x480 with 1 Axes>"
            ]
          },
          "metadata": {},
          "output_type": "display_data"
        }
      ],
      "source": [
        "# plot the non-linear ReLU function\n",
        "plt.plot(torch.relu(A))"
      ]
    },
    {
      "cell_type": "markdown",
      "metadata": {
        "id": "4DzDF_eIksqF"
      },
      "source": [
        "## Multi-class Classification Problem\n",
        "\n",
        "* Binary classification - one thing or another (cat vs. dog)\n",
        "* Multiclass classification - more than one thing or another (cat vs. dog vs. dinosour)"
      ]
    },
    {
      "cell_type": "markdown",
      "metadata": {
        "id": "XIfEqVPolVRV"
      },
      "source": [
        "### Creating a Toy multi-class dataset"
      ]
    },
    {
      "cell_type": "code",
      "execution_count": 32,
      "metadata": {
        "colab": {
          "base_uri": "https://localhost:8080/",
          "height": 447
        },
        "id": "HfII8sRllZnR",
        "outputId": "1c592040-f547-460e-e38d-88764c4cf56f"
      },
      "outputs": [
        {
          "data": {
            "text/plain": [
              "<matplotlib.collections.PathCollection at 0x70117738f440>"
            ]
          },
          "execution_count": 32,
          "metadata": {},
          "output_type": "execute_result"
        },
        {
          "data": {
            "image/png": "[encoded data removed]",
            "text/plain": [
              "<Figure size 640x480 with 1 Axes>"
            ]
          },
          "metadata": {},
          "output_type": "display_data"
        }
      ],
      "source": [
        "from sklearn.datasets import make_blobs\n",
        "from sklearn.model_selection import train_test_split\n",
        "\n",
        "# set the hyperparameters\n",
        "\n",
        "NUM_CLASSES = 4\n",
        "NUM_FEATURES = 2\n",
        "RANDOM_SEED = 42\n",
        "\n",
        "x_blob, y_blob = make_blobs(n_samples=1000, n_features=NUM_FEATURES,\n",
        "                            centers = NUM_CLASSES,\n",
        "                            cluster_std = 1.5, # give the cluster a little shake up\n",
        "                            random_state = RANDOM_SEED)\n",
        "\n",
        "x_blob = torch.from_numpy(x_blob).type(torch.float)\n",
        "y_blob = torch.from_numpy(y_blob).type(torch.float)\n",
        "\n",
        "# test-train split\n",
        "\n",
        "x_blob_train, x_blob_test, y_blob_train, y_blob_test = train_test_split(x_blob, y_blob,\n",
        "                                                                        test_size = 0.2,\n",
        "                                                                        random_state = RANDOM_SEED)\n",
        "\n",
        "plt.scatter(x_blob[:, 0], x_blob[:, 1], cmap = plt.cm.RdYlBu, c = y_blob)\n"
      ]
    },
    {
      "cell_type": "markdown",
      "metadata": {
        "id": "ZM9cOHakW8yW"
      },
      "source": [
        "### Building Multiclass classfication model\n"
      ]
    },
    {
      "cell_type": "code",
      "execution_count": 33,
      "metadata": {
        "colab": {
          "base_uri": "https://localhost:8080/"
        },
        "id": "OAg6ThJJXtxD",
        "outputId": "cd443503-c7ee-41f1-c51f-330bbffe2955"
      },
      "outputs": [
        {
          "data": {
            "text/plain": [
              "BlobModel(\n",
              "  (linear_layer_stack): Sequential(\n",
              "    (0): Linear(in_features=2, out_features=8, bias=True)\n",
              "    (1): ReLU()\n",
              "    (2): Linear(in_features=8, out_features=8, bias=True)\n",
              "    (3): ReLU()\n",
              "    (4): Linear(in_features=8, out_features=4, bias=True)\n",
              "  )\n",
              ")"
            ]
          },
          "execution_count": 33,
          "metadata": {},
          "output_type": "execute_result"
        }
      ],
      "source": [
        "class BlobModel(nn.Module):\n",
        "    def __init__(self, input_features, output_features, hidden_units=8):\n",
        "        super().__init__()\n",
        "\n",
        "        self.linear_layer_stack = nn.Sequential(\n",
        "            nn.Linear(in_features=input_features, out_features=hidden_units),\n",
        "            nn.ReLU(),\n",
        "            nn.Linear(in_features=hidden_units, out_features=hidden_units),\n",
        "            nn.ReLU(),\n",
        "            nn.Linear(in_features=hidden_units, out_features = output_features)\n",
        "        )\n",
        "\n",
        "    def forward(self, x):\n",
        "        return self.linear_layer_stack(x)\n",
        "\n",
        "\n",
        "# create an instance of this model and send it to the target device\n",
        "model_4 = BlobModel(input_features=2,\n",
        "                    output_features=4).to(device) # have to identify 4 different classes\n",
        "\n",
        "model_4"
      ]
    },
    {
      "cell_type": "markdown",
      "metadata": {
        "id": "3g60jAGIR3at"
      },
      "source": [
        "### Create Loss Function & Optimizer"
      ]
    },
    {
      "cell_type": "code",
      "execution_count": 34,
      "metadata": {
        "id": "_x86ShYrSCoA"
      },
      "outputs": [],
      "source": [
        "# create a loss function\n",
        "loss_fn = nn.CrossEntropyLoss()\n",
        "\n",
        "# create an optimizer\n",
        "optimizer = torch.optim.SGD(params = model_4.parameters(), lr = 0.1)"
      ]
    },
    {
      "cell_type": "markdown",
      "metadata": {
        "id": "NGTlkgdTTF-E"
      },
      "source": [
        "### Getting Prediction Probabilities For a Multi-class Model\n",
        "\n",
        "In order to evaluate, train and test our model, we need to convert model's output (logits) to prediction probabilities and then to prediction labels.\n",
        "\n",
        "Logits -> Prediction probabilities -> Prediction labels"
      ]
    },
    {
      "cell_type": "code",
      "execution_count": 37,
      "metadata": {
        "colab": {
          "base_uri": "https://localhost:8080/"
        },
        "id": "SQIEAn8BTMa0",
        "outputId": "bf44c6ff-0b83-4921-8730-7d1a35badb82"
      },
      "outputs": [
        {
          "data": {
            "text/plain": [
              "tensor([[-0.7646, -0.7412, -1.5777, -1.1376],\n",
              "        [-0.0973, -0.9431, -0.5963, -0.1371],\n",
              "        [ 0.2528, -0.2379,  0.1882, -0.0066],\n",
              "        [-0.4134, -0.5204, -0.9303, -0.6963],\n",
              "        [-0.3118, -1.3736, -1.1991, -0.3834],\n",
              "        [-0.1497, -1.0617, -0.7107, -0.1645],\n",
              "        [ 0.1539, -0.2887,  0.1520, -0.0109],\n",
              "        [-0.2154, -1.1795, -0.9300, -0.2745],\n",
              "        [ 0.2443, -0.2472,  0.1649,  0.0061],\n",
              "        [-0.2329, -1.2120, -0.9849, -0.3004]], device='cuda:0')"
            ]
          },
          "execution_count": 37,
          "metadata": {},
          "output_type": "execute_result"
        }
      ],
      "source": [
        "# preidct\n",
        "\n",
        "model_4.eval()\n",
        "\n",
        "x_blob_test = x_blob_test.to(device)\n",
        "\n",
        "with torch.inference_mode():\n",
        "    y_logits = model_4(x_blob_test)\n",
        "\n",
        "y_logits[:10]"
      ]
    },
    {
      "cell_type": "code",
      "execution_count": 38,
      "metadata": {
        "colab": {
          "base_uri": "https://localhost:8080/"
        },
        "id": "7bI6_LE1W-fC",
        "outputId": "219da328-2a3b-4d32-ce4f-697fd70f517b"
      },
      "outputs": [
        {
          "data": {
            "text/plain": [
              "tensor([[0.3169, 0.3244, 0.1405, 0.2182],\n",
              "        [0.3336, 0.1432, 0.2026, 0.3206],\n",
              "        [0.3011, 0.1843, 0.2823, 0.2323],\n",
              "        [0.3078, 0.2766, 0.1836, 0.2320],\n",
              "        [0.3719, 0.1286, 0.1532, 0.3463]], device='cuda:0')"
            ]
          },
          "execution_count": 38,
          "metadata": {},
          "output_type": "execute_result"
        }
      ],
      "source": [
        "y_pred_probs = torch.softmax(y_logits, dim=1)\n",
        "y_pred_probs[:5]"
      ]
    },
    {
      "cell_type": "markdown",
      "metadata": {
        "id": "gJrmYPxyWTct"
      },
      "source": [
        "### Why Are There 4 Values in Each Feature Vector?\n",
        "\n",
        "Let’s take this feature vector as an example:\n",
        "\n",
        "[0.3169, 0.3244, 0.1405, 0.2182]\n",
        "\n",
        "\n",
        "These four values represent the **model’s predicted probabilities** for each class.  \n",
        "Here’s how to interpret it:\n",
        "\n",
        "- The model says there’s a **31.69%** chance the input belongs to **Class 0**  \n",
        "- A **32.44%** chance it belongs to **Class 1**  \n",
        "- A **14.05%** chance for **Class 2**  \n",
        "- And a **21.82%** chance for **Class 3**\n",
        "\n",
        "All these values **add up to 1**, because they form a **probability distribution** over the 4 possible classes.\n",
        "\n",
        "So basically:  \n",
        "> The model’s like “Yo, I ain't 100% sure, but here's how I’m feelin’ about this input... pick one.” 🎯\n",
        "\n",
        "### Why Does My Multi-Class Model Output 4 Values Instead of Just 1 Class?\n",
        "\n",
        "You built a multi-class classification model that outputs something like this:\n",
        "\n",
        "[0.3169, 0.3244, 0.1405, 0.2182]\n",
        "\n",
        "\n",
        "These are the **predicted probabilities** for each of the 4 classes.\n",
        "\n",
        "\n",
        "### 🧠 But Why Not Just Spit Out ONE Number?\n",
        "\n",
        "Because:\n",
        "\n",
        "- During training, you use **`nn.CrossEntropyLoss()`**, which **expects raw logits for _all_ classes** — not just a class index.\n",
        "  \n",
        "- The model needs to **learn gradients for all classes**, not just whichever one it thinks is most likely right now.\n",
        "\n",
        "So your model has to output **a value for every class**, so that the loss function can compare the prediction for *each* class against the ground truth label, and compute a proper gradient.\n",
        "\n",
        "\n",
        "### 🧪 But Can It Output Just a Class Number?\n",
        "\n",
        "**Yes — but only during inference (after training).**  \n",
        "You can use:\n",
        "\n",
        "```python\n",
        "torch.argmax(model_output, dim=1)\n",
        "\n"
      ]
    },
    {
      "cell_type": "code",
      "execution_count": 39,
      "metadata": {
        "colab": {
          "base_uri": "https://localhost:8080/"
        },
        "id": "v63Uebx5U8TO",
        "outputId": "507a6d5e-c314-4772-884d-2bfd73176665"
      },
      "outputs": [
        {
          "data": {
            "text/plain": [
              "tensor([1., 3., 2., 1., 0., 3., 2., 0., 2., 0.])"
            ]
          },
          "execution_count": 39,
          "metadata": {},
          "output_type": "execute_result"
        }
      ],
      "source": [
        "y_blob_test[:10]  # not in the same shape as our model's output"
      ]
    },
    {
      "cell_type": "markdown",
      "metadata": {
        "id": "cqXwv2d299Gr"
      },
      "source": [
        "### Create Training & Testing Loop For This Model"
      ]
    },
    {
      "cell_type": "code",
      "execution_count": 40,
      "metadata": {
        "colab": {
          "base_uri": "https://localhost:8080/"
        },
        "id": "NVqg7X5w-aGw",
        "outputId": "8b60d29e-eb89-487a-8e77-e43b21ee36e1"
      },
      "outputs": [
        {
          "name": "stdout",
          "output_type": "stream",
          "text": [
            "Epoch: 0 | Loss: 1.1588265895843506 | Test Loss: 1.0755419731140137\n",
            "Epoch: 10 | Loss: 0.6447554230690002 | Test Loss: 0.660687267780304\n",
            "Epoch: 20 | Loss: 0.42535150051116943 | Test Loss: 0.43074116110801697\n",
            "Epoch: 30 | Loss: 0.25294229388237 | Test Loss: 0.24507611989974976\n",
            "Epoch: 40 | Loss: 0.11232148110866547 | Test Loss: 0.10228512436151505\n",
            "Epoch: 50 | Loss: 0.06626509875059128 | Test Loss: 0.058475371450185776\n",
            "Epoch: 60 | Loss: 0.05068015679717064 | Test Loss: 0.042932283133268356\n",
            "Epoch: 70 | Loss: 0.042996760457754135 | Test Loss: 0.03490965813398361\n",
            "Epoch: 80 | Loss: 0.038361381739377975 | Test Loss: 0.02987821400165558\n",
            "Epoch: 90 | Loss: 0.03524843230843544 | Test Loss: 0.026626521721482277\n"
          ]
        }
      ],
      "source": [
        "torch.manual_seed(42)\n",
        "\n",
        "# set the no. of epochs\n",
        "epochs = 100\n",
        "\n",
        "# put the data to the target device\n",
        "x_blob_train, y_blob_train = x_blob_train.to(device), y_blob_train.to(device)\n",
        "x_blob_test, y_blob_test = x_blob_test.to(device), y_blob_test.to(device)\n",
        "\n",
        "for epoch in range(epochs):\n",
        "    # training\n",
        "    model_4.train()\n",
        "\n",
        "    y_logits = model_4(x_blob_train).squeeze()\n",
        "\n",
        "    y_preds = torch.softmax(y_logits, dim=1).argmax(dim=1)\n",
        "\n",
        "    # calculate the loss\n",
        "    loss = loss_fn(y_logits, y_blob_train.type(torch.int64))\n",
        "\n",
        "    optimizer.zero_grad()\n",
        "    loss.backward()\n",
        "    optimizer.step()\n",
        "\n",
        "    model_4.eval()\n",
        "\n",
        "    with torch.inference_mode():\n",
        "        y_test_logits = model_4(x_blob_test)\n",
        "        y_test_preds = torch.softmax(y_test_logits, dim=1).argmax(dim=1)\n",
        "\n",
        "        test_loss = loss_fn(y_test_logits, y_blob_test.type(torch.int64))\n",
        "\n",
        "    # print out what's happening\n",
        "\n",
        "    if epoch % 10 == 0:\n",
        "        print(f\"Epoch: {epoch} | Loss: {loss} | Test Loss: {test_loss}\")"
      ]
    },
    {
      "cell_type": "markdown",
      "metadata": {
        "id": "PWR71M3Qy_k6"
      },
      "source": [
        "#### Note: `y_blob_train` must be converted to `int64`, in order to work with `CrossEntropyLoss` function"
      ]
    },
    {
      "cell_type": "code",
      "execution_count": 41,
      "metadata": {
        "colab": {
          "base_uri": "https://localhost:8080/"
        },
        "id": "nJ0yiFt6xtjy",
        "outputId": "8cdf58b9-21fb-49dd-f96a-71af8a38237c"
      },
      "outputs": [
        {
          "data": {
            "text/plain": [
              "tensor([ True,  True,  True,  True,  True,  True,  True,  True,  True,  True,\n",
              "         True,  True,  True,  True,  True,  True,  True,  True,  True,  True,\n",
              "         True,  True,  True,  True,  True,  True,  True,  True,  True,  True,\n",
              "         True,  True,  True,  True,  True,  True,  True,  True,  True,  True,\n",
              "         True,  True,  True,  True,  True,  True,  True,  True,  True,  True,\n",
              "         True,  True,  True,  True,  True,  True,  True,  True,  True,  True,\n",
              "         True,  True,  True,  True,  True,  True,  True,  True,  True,  True,\n",
              "         True,  True,  True,  True,  True,  True,  True,  True,  True,  True,\n",
              "         True,  True,  True,  True,  True,  True,  True,  True,  True,  True,\n",
              "         True,  True,  True,  True,  True,  True,  True,  True,  True,  True,\n",
              "         True,  True,  True,  True,  True,  True,  True,  True,  True,  True,\n",
              "         True,  True,  True,  True,  True,  True,  True,  True,  True,  True,\n",
              "         True,  True,  True,  True,  True,  True,  True,  True,  True,  True,\n",
              "         True,  True,  True,  True,  True,  True,  True,  True,  True,  True,\n",
              "         True,  True,  True,  True,  True,  True,  True,  True, False,  True,\n",
              "         True,  True,  True,  True,  True,  True,  True,  True,  True,  True,\n",
              "         True,  True,  True,  True,  True,  True,  True,  True,  True,  True,\n",
              "         True,  True,  True,  True,  True,  True,  True,  True,  True,  True,\n",
              "         True,  True,  True,  True,  True,  True,  True,  True,  True,  True,\n",
              "         True,  True,  True,  True,  True,  True,  True,  True,  True,  True],\n",
              "       device='cuda:0')"
            ]
          },
          "execution_count": 41,
          "metadata": {},
          "output_type": "execute_result"
        }
      ],
      "source": [
        "model_4.eval()\n",
        "\n",
        "with torch.inference_mode():\n",
        "    test_logits = model_4(x_blob_test)\n",
        "    y_preds = torch.softmax(test_logits, dim=1).argmax(dim=1)\n",
        "\n",
        "result = y_preds == y_blob_test\n",
        "result"
      ]
    },
    {
      "cell_type": "code",
      "execution_count": null,
      "metadata": {
        "id": "xIdgRsyp-8i8"
      },
      "outputs": [],
      "source": []
    }
  ],
  "metadata": {
    "colab": {
      "gpuType": "T4",
      "provenance": []
    },
    "kernelspec": {
      "display_name": "venv",
      "language": "python",
      "name": "python3"
    },
    "language_info": {
      "codemirror_mode": {
        "name": "ipython",
        "version": 3
      },
      "file_extension": ".py",
      "mimetype": "text/x-python",
      "name": "python",
      "nbconvert_exporter": "python",
      "pygments_lexer": "ipython3",
      "version": "3.12.3"
    }
  },
  "nbformat": 4,
  "nbformat_minor": 0
}
