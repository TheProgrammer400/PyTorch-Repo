{
  "cells": [
    {
      "cell_type": "markdown",
      "metadata": {
        "id": "xCSZCI0hc7Mi"
      },
      "source": [
        "# Introduction to Tensors\n",
        "\n",
        "## Creating a Tensor:"
      ]
    },
    {
      "cell_type": "code",
      "execution_count": 1,
      "metadata": {
        "colab": {
          "base_uri": "https://localhost:8080/"
        },
        "id": "-SakZE_8a_TQ",
        "outputId": "0fda7caa-f287-4c34-eaea-9dfa123d1bb2"
      },
      "outputs": [
        {
          "name": "stdout",
          "output_type": "stream",
          "text": [
            "2.5.1+cu121\n"
          ]
        }
      ],
      "source": [
        "import torch\n",
        "import pandas as pd\n",
        "import numpy as np\n",
        "import matplotlib.pyplot as plt\n",
        "print(torch.__version__)"
      ]
    },
    {
      "cell_type": "code",
      "execution_count": 2,
      "metadata": {
        "colab": {
          "base_uri": "https://localhost:8080/"
        },
        "id": "TymRsJTodDN7",
        "outputId": "87478f20-7027-466e-b094-3d887327006d"
      },
      "outputs": [
        {
          "data": {
            "text/plain": [
              "tensor(8)"
            ]
          },
          "execution_count": 2,
          "metadata": {},
          "output_type": "execute_result"
        }
      ],
      "source": [
        "# scalar\n",
        "scalar = torch.tensor(8)\n",
        "scalar"
      ]
    },
    {
      "cell_type": "code",
      "execution_count": 3,
      "metadata": {
        "colab": {
          "base_uri": "https://localhost:8080/"
        },
        "id": "iWQx7V6NdxqA",
        "outputId": "27d9969e-cc95-41c7-e453-fe28d51220cc"
      },
      "outputs": [
        {
          "data": {
            "text/plain": [
              "0"
            ]
          },
          "execution_count": 3,
          "metadata": {},
          "output_type": "execute_result"
        }
      ],
      "source": [
        "# find the dimension of the tensor\n",
        "scalar.ndim"
      ]
    },
    {
      "cell_type": "code",
      "execution_count": 4,
      "metadata": {
        "colab": {
          "base_uri": "https://localhost:8080/"
        },
        "id": "CZthBFUJd3HP",
        "outputId": "abe81c5f-53de-49fe-96fa-7eb39575d178"
      },
      "outputs": [
        {
          "data": {
            "text/plain": [
              "8"
            ]
          },
          "execution_count": 4,
          "metadata": {},
          "output_type": "execute_result"
        }
      ],
      "source": [
        "# get the item from the tensor (converted to int)\n",
        "scalar.item()"
      ]
    },
    {
      "cell_type": "code",
      "execution_count": 5,
      "metadata": {
        "colab": {
          "base_uri": "https://localhost:8080/"
        },
        "id": "_Tn5UWw4gEJi",
        "outputId": "57c68adf-406d-4e64-e12f-ad3b255abd94"
      },
      "outputs": [
        {
          "name": "stdout",
          "output_type": "stream",
          "text": [
            "tensor([1, 2, 3])\n",
            "tensor([[1, 2],\n",
            "        [3, 4]])\n",
            "tensor([[[1, 2],\n",
            "         [3, 4]],\n",
            "\n",
            "        [[5, 6],\n",
            "         [7, 8]]])\n"
          ]
        }
      ],
      "source": [
        "# 1D Tensor (Vector)\n",
        "vec = torch.tensor([1, 2, 3])\n",
        "print(vec)\n",
        "\n",
        "# 2D Tensor (Matrix)\n",
        "m = torch.tensor([[1, 2], [3, 4]])\n",
        "print(m)\n",
        "\n",
        "# 3D Tensor (Tensor)\n",
        "t = torch.tensor([[[1, 2], [3, 4]], [[5, 6], [7, 8]]])\n",
        "print(t)"
      ]
    },
    {
      "cell_type": "markdown",
      "metadata": {
        "id": "eI4THN7Lhz9b"
      },
      "source": [
        "## `.ndim` & `.shape` Property:\n",
        "\n",
        "### 1. `.ndim` Property:\n",
        "\n",
        "It just tells **how many dimentions (axes)** a tensor has.\n",
        "\n",
        "### 2. `.shape` Property:\n",
        "\n",
        "It tells the **exact size** of each dimension."
      ]
    },
    {
      "cell_type": "code",
      "execution_count": 6,
      "metadata": {
        "colab": {
          "base_uri": "https://localhost:8080/"
        },
        "id": "iUH4Gp-XgZVy",
        "outputId": "7d252aa6-0737-44aa-d3c9-e2f2deb13852"
      },
      "outputs": [
        {
          "name": "stdout",
          "output_type": "stream",
          "text": [
            "1\n",
            "2\n",
            "3\n"
          ]
        }
      ],
      "source": [
        "print(vec.ndim) # couting no. of pairs of square brackets\n",
        "print(m.ndim)\n",
        "print(t.ndim)"
      ]
    },
    {
      "cell_type": "code",
      "execution_count": 7,
      "metadata": {
        "colab": {
          "base_uri": "https://localhost:8080/"
        },
        "id": "svySF3GihsPE",
        "outputId": "2bbe9587-dc5f-4e70-9439-e0ae492e4ab1"
      },
      "outputs": [
        {
          "name": "stdout",
          "output_type": "stream",
          "text": [
            "torch.Size([3])\n",
            "torch.Size([2, 2])\n",
            "torch.Size([2, 2, 2])\n"
          ]
        }
      ],
      "source": [
        "print(vec.shape)\n",
        "print(m.shape)\n",
        "print(t.shape)"
      ]
    },
    {
      "cell_type": "code",
      "execution_count": 8,
      "metadata": {
        "colab": {
          "base_uri": "https://localhost:8080/"
        },
        "id": "ZC3MnsYhiXZU",
        "outputId": "369cef94-d358-4587-8c91-cf7b00af304c"
      },
      "outputs": [
        {
          "name": "stdout",
          "output_type": "stream",
          "text": [
            "tensor([1, 2])\n",
            "tensor([3, 4])\n",
            "tensor(2)\n",
            "\n",
            "\n",
            "Tensor 't': \n",
            "\n",
            "\n",
            "tensor([[1, 2],\n",
            "        [3, 4]])\n",
            "tensor([7, 8])\n"
          ]
        }
      ],
      "source": [
        "# get the elements by index\n",
        "print(m[0])\n",
        "print(m[1])\n",
        "print(m[0][1])\n",
        "print(\"\\n\")\n",
        "\n",
        "print(\"Tensor 't': \")\n",
        "print(\"\\n\")\n",
        "print(t[0])\n",
        "print(t[1][1])"
      ]
    },
    {
      "cell_type": "markdown",
      "metadata": {
        "id": "-noUY3GMszqG"
      },
      "source": [
        "## Random Tensors\n",
        "\n",
        "### Why Random Tensors?\n",
        "\n",
        "Random tensors are important because the way many many neural networks learn is that they start with tensors full of random numbers and then adjust those numbers to better represent the data.\n",
        "\n",
        "`start with random numbers -> look at data -> update random numbers -> look at data -> update random numbers`"
      ]
    },
    {
      "cell_type": "code",
      "execution_count": 9,
      "metadata": {
        "colab": {
          "base_uri": "https://localhost:8080/"
        },
        "id": "17IdaUmBuBMQ",
        "outputId": "9c5e816f-e62f-4747-cf0a-2ca000f19a88"
      },
      "outputs": [
        {
          "data": {
            "text/plain": [
              "tensor([[0.7493, 0.5483, 0.6921, 0.2318],\n",
              "        [0.5842, 0.0321, 0.5078, 0.7150],\n",
              "        [0.8721, 0.3988, 0.4536, 0.0888]])"
            ]
          },
          "execution_count": 9,
          "metadata": {},
          "output_type": "execute_result"
        }
      ],
      "source": [
        "# create a random tensor of size (3, 4)\n",
        "random_tensor = torch.rand(3, 4)\n",
        "random_tensor"
      ]
    },
    {
      "cell_type": "markdown",
      "metadata": {
        "id": "sn1lA1a9wFRF"
      },
      "source": [
        "## Zeros and Ones Tensors\n",
        "\n"
      ]
    },
    {
      "cell_type": "code",
      "execution_count": 10,
      "metadata": {
        "colab": {
          "base_uri": "https://localhost:8080/"
        },
        "id": "8tsOEY2CwINX",
        "outputId": "2e04fe4b-2bb2-4938-fb37-adf82969bb35"
      },
      "outputs": [
        {
          "data": {
            "text/plain": [
              "tensor([[0., 0., 0., 0.],\n",
              "        [0., 0., 0., 0.],\n",
              "        [0., 0., 0., 0.]])"
            ]
          },
          "execution_count": 10,
          "metadata": {},
          "output_type": "execute_result"
        }
      ],
      "source": [
        "# create a tensor of all 0's\n",
        "zero_tensor = torch.zeros(3, 4)\n",
        "zero_tensor"
      ]
    },
    {
      "cell_type": "code",
      "execution_count": 11,
      "metadata": {
        "colab": {
          "base_uri": "https://localhost:8080/"
        },
        "id": "bH0-ir-YwcPk",
        "outputId": "1eb4e9b4-7edd-4ee7-cd9b-e5870377d787"
      },
      "outputs": [
        {
          "data": {
            "text/plain": [
              "tensor([[1., 1., 1., 1.],\n",
              "        [1., 1., 1., 1.],\n",
              "        [1., 1., 1., 1.]])"
            ]
          },
          "execution_count": 11,
          "metadata": {},
          "output_type": "execute_result"
        }
      ],
      "source": [
        "# create a tensor of all 1's\n",
        "one_tensor = torch.ones(3, 4)\n",
        "one_tensor"
      ]
    },
    {
      "cell_type": "code",
      "execution_count": 12,
      "metadata": {
        "colab": {
          "base_uri": "https://localhost:8080/"
        },
        "id": "WiEZMzXaw80U",
        "outputId": "512571b7-c8c1-4ffa-e57d-3bcd96ce7d01"
      },
      "outputs": [
        {
          "name": "stdout",
          "output_type": "stream",
          "text": [
            "torch.float32\n",
            "torch.float32\n"
          ]
        }
      ],
      "source": [
        "# print the data type of the tensors\n",
        "print(zero_tensor.dtype)\n",
        "print(one_tensor.dtype)"
      ]
    },
    {
      "cell_type": "markdown",
      "metadata": {
        "id": "gu8aXSywxPVh"
      },
      "source": [
        "## Creating Tensors In a Range and Tensors-like\n",
        "\n",
        "### For range:\n",
        "\n",
        "- use `torch.range()`\n",
        "\n",
        "**WARNING**: `torch.range()` sooner to be depricated in newer PyTorch versions\n",
        "\n",
        "\n",
        "Instead, use `pytorch.arange()`"
      ]
    },
    {
      "cell_type": "code",
      "execution_count": 13,
      "metadata": {
        "colab": {
          "base_uri": "https://localhost:8080/"
        },
        "id": "Jqgi-uNOx7P2",
        "outputId": "4087e955-b836-4407-cc71-867fad4bb79d"
      },
      "outputs": [
        {
          "data": {
            "text/plain": [
              "tensor([ 4,  5,  6,  7,  8,  9, 10, 11, 12, 13, 14, 15])"
            ]
          },
          "execution_count": 13,
          "metadata": {},
          "output_type": "execute_result"
        }
      ],
      "source": [
        "torch.arange(4, 16)"
      ]
    },
    {
      "cell_type": "code",
      "execution_count": 14,
      "metadata": {
        "colab": {
          "base_uri": "https://localhost:8080/"
        },
        "id": "_CEx2qkdyc9k",
        "outputId": "12aaa934-3253-4ec8-98d9-438a50f1d80b"
      },
      "outputs": [
        {
          "data": {
            "text/plain": [
              "tensor([ 4,  7, 10, 13, 16, 19, 22, 25, 28, 31, 34, 37, 40, 43, 46, 49, 52, 55,\n",
              "        58, 61, 64, 67, 70, 73, 76, 79, 82, 85, 88, 91, 94, 97])"
            ]
          },
          "execution_count": 14,
          "metadata": {},
          "output_type": "execute_result"
        }
      ],
      "source": [
        "torch.arange(start=4, end=100, step=3)"
      ]
    },
    {
      "cell_type": "code",
      "execution_count": 15,
      "metadata": {
        "colab": {
          "base_uri": "https://localhost:8080/"
        },
        "id": "GAKd6-4yypx8",
        "outputId": "02edc325-a4f5-4f06-f095-097666202083"
      },
      "outputs": [
        {
          "data": {
            "text/plain": [
              "tensor([[0., 0., 0., 0.],\n",
              "        [0., 0., 0., 0.],\n",
              "        [0., 0., 0., 0.]])"
            ]
          },
          "execution_count": 15,
          "metadata": {},
          "output_type": "execute_result"
        }
      ],
      "source": [
        "# creating tensors-like\n",
        "random_zeros = torch.zeros_like(input=random_tensor)\n",
        "random_zeros"
      ]
    },
    {
      "cell_type": "markdown",
      "metadata": {
        "id": "yRAwqtIezayi"
      },
      "source": [
        "## Tensors Datatypes"
      ]
    },
    {
      "cell_type": "code",
      "execution_count": 16,
      "metadata": {
        "colab": {
          "base_uri": "https://localhost:8080/"
        },
        "id": "TL72uHbPzj6V",
        "outputId": "5f1f0b44-1018-4435-9d30-6cb713a2e386"
      },
      "outputs": [
        {
          "data": {
            "text/plain": [
              "tensor([3., 6., 3.])"
            ]
          },
          "execution_count": 16,
          "metadata": {},
          "output_type": "execute_result"
        }
      ],
      "source": [
        "float_32_tensor = torch.tensor([3.0, 6.0, 3.0],\n",
        "                               dtype=None,\n",
        "                               device=None, # what device is your tensor on\n",
        "                               requires_grad=False)\n",
        "float_32_tensor"
      ]
    },
    {
      "cell_type": "markdown",
      "metadata": {
        "id": "beGrMYPhzwhr"
      },
      "source": [
        "### What is `requires_grad` in PyTorch?\n",
        "\n",
        "PyTorch **tracks gradient** when `requires_drad=True`. If it's `False` then it doesn't care about gradient.\n",
        "\n",
        "### What is a Gradient?\n",
        "\n",
        "In PyTorch, a **gradient** is quantity to define **how much something changes** when another thing changes.\n",
        "\n",
        "### Why Do We Need Gradient?\n",
        "\n",
        "In **Machine Learning**, the **gradient tells us how to adjust our model to get better result** (find the lowest loss). This is called **Gradient Descent**. Neural Networks use gradients to learn & improve.\n",
        "\n",
        "When `required_grad=False` -> Just normal math, no gradients."
      ]
    },
    {
      "cell_type": "code",
      "execution_count": 17,
      "metadata": {
        "colab": {
          "base_uri": "https://localhost:8080/"
        },
        "id": "TJNjMxVx1Nxf",
        "outputId": "300f494c-8ee7-48d0-ff9c-93abb2c952c7"
      },
      "outputs": [
        {
          "data": {
            "text/plain": [
              "tensor([3., 6., 3.], dtype=torch.float16)"
            ]
          },
          "execution_count": 17,
          "metadata": {},
          "output_type": "execute_result"
        }
      ],
      "source": [
        "float_16_tensor = float_32_tensor.type(torch.float16)\n",
        "float_16_tensor"
      ]
    },
    {
      "cell_type": "markdown",
      "metadata": {
        "id": "c-SzzOLu3U1v"
      },
      "source": [
        "## Getting Information From Tensor (Tensor Attributes)"
      ]
    },
    {
      "cell_type": "code",
      "execution_count": 18,
      "metadata": {
        "colab": {
          "base_uri": "https://localhost:8080/"
        },
        "id": "R6z-0gdw3Xyg",
        "outputId": "c86de117-6b29-40a4-f74f-b5ca808efe03"
      },
      "outputs": [
        {
          "data": {
            "text/plain": [
              "tensor([[0.6916, 0.0457, 0.0543, 0.4478],\n",
              "        [0.4119, 0.3776, 0.9563, 0.2544],\n",
              "        [0.5102, 0.2764, 0.3915, 0.7516]])"
            ]
          },
          "execution_count": 18,
          "metadata": {},
          "output_type": "execute_result"
        }
      ],
      "source": [
        "# create a tensor\n",
        "some_tensor = torch.rand(3, 4)\n",
        "some_tensor"
      ]
    },
    {
      "cell_type": "code",
      "execution_count": 19,
      "metadata": {
        "colab": {
          "base_uri": "https://localhost:8080/"
        },
        "id": "_2nZa3OD3qoL",
        "outputId": "41b4c8d8-f23d-44e9-9aa6-aace4bcde441"
      },
      "outputs": [
        {
          "name": "stdout",
          "output_type": "stream",
          "text": [
            "Datatype of tensor: torch.float32\n",
            "Shape of tensor: torch.Size([3, 4])\n",
            "Device tensor is on: cpu\n"
          ]
        }
      ],
      "source": [
        "# find out details about tensor\n",
        "print(f\"Datatype of tensor: {some_tensor.dtype}\")\n",
        "print(f\"Shape of tensor: {some_tensor.shape}\")\n",
        "print(f\"Device tensor is on: {some_tensor.device}\")"
      ]
    },
    {
      "cell_type": "markdown",
      "metadata": {
        "id": "1jPLuMxi4F9l"
      },
      "source": [
        "## Manipulating Tensors (Tensor Operations)\n",
        "\n",
        "Operations include:\n",
        "- Addition\n",
        "- Subtraction\n",
        "- Multiplication (element-wise)\n",
        "- Division\n",
        "- Matrix multiplication"
      ]
    },
    {
      "cell_type": "code",
      "execution_count": 20,
      "metadata": {
        "colab": {
          "base_uri": "https://localhost:8080/"
        },
        "id": "QfK3jG5A4Jvl",
        "outputId": "47153dd4-0b73-49ba-af53-db9a5eb3ff24"
      },
      "outputs": [
        {
          "data": {
            "text/plain": [
              "tensor([11, 12, 13])"
            ]
          },
          "execution_count": 20,
          "metadata": {},
          "output_type": "execute_result"
        }
      ],
      "source": [
        "tensor1 = torch.tensor([1, 2, 3])\n",
        "tensor1 + 10"
      ]
    },
    {
      "cell_type": "code",
      "execution_count": 21,
      "metadata": {
        "colab": {
          "base_uri": "https://localhost:8080/"
        },
        "id": "3SpxhMsE44DU",
        "outputId": "352dd16c-f074-49d1-adf2-c1e075499165"
      },
      "outputs": [
        {
          "data": {
            "text/plain": [
              "tensor([10, 20, 30])"
            ]
          },
          "execution_count": 21,
          "metadata": {},
          "output_type": "execute_result"
        }
      ],
      "source": [
        "# Multiple tensor by 10\n",
        "tensor1 * 10"
      ]
    },
    {
      "cell_type": "code",
      "execution_count": 22,
      "metadata": {
        "colab": {
          "base_uri": "https://localhost:8080/"
        },
        "id": "WwSdGlrX5KS3",
        "outputId": "b05ef4b0-3ca5-47a1-bfaa-3cd7de4b0fd4"
      },
      "outputs": [
        {
          "data": {
            "text/plain": [
              "tensor([10, 20, 30])"
            ]
          },
          "execution_count": 22,
          "metadata": {},
          "output_type": "execute_result"
        }
      ],
      "source": [
        "# Some in-built PyTorch functions\n",
        "torch.mul(tensor1, 10)"
      ]
    },
    {
      "cell_type": "markdown",
      "metadata": {
        "id": "oPlPNHnd5msf"
      },
      "source": [
        "## Matrix Multiplication\n",
        "\n",
        "Two main ways of performing of multiplication in neural networks and deep learning\n",
        "\n",
        "1. Element-wise multiplication\n",
        "2. Matrix multiplication (dot product)"
      ]
    },
    {
      "cell_type": "code",
      "execution_count": 23,
      "metadata": {
        "colab": {
          "base_uri": "https://localhost:8080/"
        },
        "id": "n14LoMKd55xd",
        "outputId": "17af82ec-7c25-495d-d9e3-abbe4b86dc23"
      },
      "outputs": [
        {
          "data": {
            "text/plain": [
              "tensor(14)"
            ]
          },
          "execution_count": 23,
          "metadata": {},
          "output_type": "execute_result"
        }
      ],
      "source": [
        "torch.matmul(tensor1, tensor1) # 1*1 + 2*2 + 3*3 = 14"
      ]
    },
    {
      "cell_type": "markdown",
      "metadata": {
        "id": "ppTDAovXDRZF"
      },
      "source": [
        "The resulting matrix has the shape of **outer dimention** of the multiplying matrices\n",
        "\n",
        "For example;\n",
        "\n",
        "- `(4, 5) @ (5, 7)` -> `(4, 7)`\n",
        "- `(5, 6) @ (6, 3)` -> `(5, 3)`"
      ]
    },
    {
      "cell_type": "code",
      "execution_count": 24,
      "metadata": {
        "colab": {
          "base_uri": "https://localhost:8080/"
        },
        "id": "GKDJq3HAEB2a",
        "outputId": "ebed2188-57a1-48cd-a0ba-9840bd5e62fe"
      },
      "outputs": [
        {
          "data": {
            "text/plain": [
              "torch.Size([4, 3])"
            ]
          },
          "execution_count": 24,
          "metadata": {},
          "output_type": "execute_result"
        }
      ],
      "source": [
        "torch.matmul(torch.rand(4, 5), torch.rand(5, 3)).shape"
      ]
    },
    {
      "cell_type": "markdown",
      "metadata": {
        "id": "5TfPxv8gGDic"
      },
      "source": [
        "### Taking Transpose Of a Matrix"
      ]
    },
    {
      "cell_type": "code",
      "execution_count": 25,
      "metadata": {
        "colab": {
          "base_uri": "https://localhost:8080/"
        },
        "id": "UIGxVlBwGL28",
        "outputId": "c8cb6241-c0f8-49d9-d3e7-012112c0f032"
      },
      "outputs": [
        {
          "data": {
            "text/plain": [
              "tensor([[1, 2],\n",
              "        [3, 4],\n",
              "        [5, 6]])"
            ]
          },
          "execution_count": 25,
          "metadata": {},
          "output_type": "execute_result"
        }
      ],
      "source": [
        "tensor_A = torch.tensor([[1, 2], [3, 4], [5, 6]])\n",
        "tensor_A"
      ]
    },
    {
      "cell_type": "code",
      "execution_count": 26,
      "metadata": {
        "colab": {
          "base_uri": "https://localhost:8080/"
        },
        "id": "VrMZMH9_GawB",
        "outputId": "4fdd8485-7d2b-404d-bdba-88d9f047bb84"
      },
      "outputs": [
        {
          "name": "stdout",
          "output_type": "stream",
          "text": [
            "Shape of tensor_A: torch.Size([3, 2])\n",
            "Shape of tensor_A.T: torch.Size([2, 3])\n"
          ]
        }
      ],
      "source": [
        "# taking tranpose\n",
        "tensor_A.T\n",
        "print(f\"Shape of tensor_A: {tensor_A.shape}\")\n",
        "print(f\"Shape of tensor_A.T: {tensor_A.T.shape}\")"
      ]
    },
    {
      "cell_type": "markdown",
      "metadata": {
        "id": "eWitrcu6IJcX"
      },
      "source": [
        "## Finding the min, max, mean sum (Tensor Aggregation)"
      ]
    },
    {
      "cell_type": "code",
      "execution_count": 27,
      "metadata": {
        "colab": {
          "base_uri": "https://localhost:8080/"
        },
        "id": "_APs2oheIUCg",
        "outputId": "1b33a412-b0a2-4bff-ac73-eff5409d4bc9"
      },
      "outputs": [
        {
          "data": {
            "text/plain": [
              "tensor([ 0, 10, 20, 30, 40, 50, 60, 70, 80, 90])"
            ]
          },
          "execution_count": 27,
          "metadata": {},
          "output_type": "execute_result"
        }
      ],
      "source": [
        "x = torch.arange(0, 100, 10)\n",
        "x"
      ]
    },
    {
      "cell_type": "code",
      "execution_count": 28,
      "metadata": {
        "colab": {
          "base_uri": "https://localhost:8080/"
        },
        "id": "qzgzj4NnIn6z",
        "outputId": "d4cf2cac-948d-487d-bc9b-e45ce7b85693"
      },
      "outputs": [
        {
          "data": {
            "text/plain": [
              "(tensor(0), tensor(0))"
            ]
          },
          "execution_count": 28,
          "metadata": {},
          "output_type": "execute_result"
        }
      ],
      "source": [
        "# finding the min\n",
        "x.min(), torch.min(x)"
      ]
    },
    {
      "cell_type": "code",
      "execution_count": 29,
      "metadata": {
        "colab": {
          "base_uri": "https://localhost:8080/"
        },
        "id": "w4lHP9-XIw_t",
        "outputId": "b03de86b-8b61-4370-c414-cd3b607f8a10"
      },
      "outputs": [
        {
          "data": {
            "text/plain": [
              "(tensor(90), tensor(90))"
            ]
          },
          "execution_count": 29,
          "metadata": {},
          "output_type": "execute_result"
        }
      ],
      "source": [
        "# fidning the max\n",
        "x.max(), torch.max(x)"
      ]
    },
    {
      "cell_type": "markdown",
      "metadata": {
        "id": "MhGdIuUwI0ok"
      },
      "source": [
        "### Finding the mean\n",
        "\n",
        "To find the mean of a tensor, `tensor.mean()` method is used.\n",
        "But the issue is, it doesn't work with the tensors with `dtype` = `long` or `64 bits`, because it requires floating point precision.\n",
        "\n",
        "For this to work, we need to convert this to float-point representation.\n"
      ]
    },
    {
      "cell_type": "code",
      "execution_count": 30,
      "metadata": {
        "colab": {
          "base_uri": "https://localhost:8080/"
        },
        "id": "H_V3PSy_O2Fo",
        "outputId": "39d08816-ed6d-4b21-b220-b286f7dde925"
      },
      "outputs": [
        {
          "data": {
            "text/plain": [
              "tensor(45.)"
            ]
          },
          "execution_count": 30,
          "metadata": {},
          "output_type": "execute_result"
        }
      ],
      "source": [
        "# converting to floating point\n",
        "torch.mean(x.type(torch.float32))"
      ]
    },
    {
      "cell_type": "code",
      "execution_count": 31,
      "metadata": {
        "colab": {
          "base_uri": "https://localhost:8080/"
        },
        "id": "_HdcGBKzOspO",
        "outputId": "dd8a56cc-c40b-475d-8ae8-5a114d92bcfb"
      },
      "outputs": [
        {
          "data": {
            "text/plain": [
              "(tensor(450), tensor(450))"
            ]
          },
          "execution_count": 31,
          "metadata": {},
          "output_type": "execute_result"
        }
      ],
      "source": [
        "# finding the sum\n",
        "torch.sum(x), x.sum()"
      ]
    },
    {
      "cell_type": "markdown",
      "metadata": {
        "id": "_JlWDi5LPY6V"
      },
      "source": [
        "## Finding the positional min and max"
      ]
    },
    {
      "cell_type": "code",
      "execution_count": 32,
      "metadata": {
        "colab": {
          "base_uri": "https://localhost:8080/"
        },
        "id": "eQucz2BFPe7v",
        "outputId": "cb4125f0-4464-44e0-84b0-7e6a1647ff34"
      },
      "outputs": [
        {
          "data": {
            "text/plain": [
              "tensor([ 0, 10, 20, 30, 40, 50, 60, 70, 80, 90])"
            ]
          },
          "execution_count": 32,
          "metadata": {},
          "output_type": "execute_result"
        }
      ],
      "source": [
        "x"
      ]
    },
    {
      "cell_type": "code",
      "execution_count": 33,
      "metadata": {
        "colab": {
          "base_uri": "https://localhost:8080/"
        },
        "id": "3MPoS_ivPnj5",
        "outputId": "07398e6a-351c-4a84-fed7-0b5395001409"
      },
      "outputs": [
        {
          "data": {
            "text/plain": [
              "tensor(0)"
            ]
          },
          "execution_count": 33,
          "metadata": {},
          "output_type": "execute_result"
        }
      ],
      "source": [
        "# finding the index of min element in the tensor\n",
        "x.argmin()"
      ]
    },
    {
      "cell_type": "code",
      "execution_count": 34,
      "metadata": {
        "colab": {
          "base_uri": "https://localhost:8080/"
        },
        "id": "0g5HV7LIPvKl",
        "outputId": "c70448c7-f5f9-440f-93a5-cecfe7b4e582"
      },
      "outputs": [
        {
          "data": {
            "text/plain": [
              "tensor(9)"
            ]
          },
          "execution_count": 34,
          "metadata": {},
          "output_type": "execute_result"
        }
      ],
      "source": [
        "# finding the index of max element in the tensor\n",
        "x.argmax()"
      ]
    },
    {
      "cell_type": "markdown",
      "metadata": {
        "id": "EXUtI-4iQhzB"
      },
      "source": [
        "## Reshaping, Stacking, Squeezing and unsqueezing the Tensors\n",
        "\n",
        "\n",
        "* Reshaping - Reshapes an input tensor to a defined shape\n",
        "* View - Return a view of an input tensor of certain shape but keep the same memory as the original tensor\n",
        "* Stacking - Combine multiple tensors on top of each other (vstack) or side by side (hstack)\n",
        "* Squeeze - Removes all `1` dimensions from the tensor\n",
        "* Unsqueeze - Add a `1` dimension to a taget tensor\n",
        "* Permute - Return a view of the input with the dimension permuted (swapped) in a certain way"
      ]
    },
    {
      "cell_type": "code",
      "execution_count": 35,
      "metadata": {
        "colab": {
          "base_uri": "https://localhost:8080/"
        },
        "id": "ggE87Z9fQv_o",
        "outputId": "ba5a5a08-5783-4916-9f29-3c33a0c5f09e"
      },
      "outputs": [
        {
          "data": {
            "text/plain": [
              "(tensor([0., 1., 2., 3., 4., 5., 6., 7., 8., 9.]), torch.Size([10]))"
            ]
          },
          "execution_count": 35,
          "metadata": {},
          "output_type": "execute_result"
        }
      ],
      "source": [
        "x = torch.arange(0., 10.)\n",
        "x, x.shape"
      ]
    },
    {
      "cell_type": "code",
      "execution_count": 36,
      "metadata": {
        "colab": {
          "base_uri": "https://localhost:8080/"
        },
        "id": "D-TSsJG5A-0t",
        "outputId": "d5ea02ce-c01a-41dd-c251-438a09afdd95"
      },
      "outputs": [
        {
          "data": {
            "text/plain": [
              "(tensor([[0., 1., 2., 3., 4.],\n",
              "         [5., 6., 7., 8., 9.]]),\n",
              " torch.Size([2, 5]))"
            ]
          },
          "execution_count": 36,
          "metadata": {},
          "output_type": "execute_result"
        }
      ],
      "source": [
        "# adding an extra dimension\n",
        "x_shaped = x.reshape(2, 5)\n",
        "x_shaped, x_shaped.shape\n",
        "\n",
        "# x_shaped = x.reshape(2, 3) --> this will throw error as 10 elements can't be fitted inside 2x3 tensor (6 elements)"
      ]
    },
    {
      "cell_type": "code",
      "execution_count": 37,
      "metadata": {
        "colab": {
          "base_uri": "https://localhost:8080/"
        },
        "id": "6BeZaA1bBXtm",
        "outputId": "c5d5c42c-d8d8-44b6-a54e-0ac8c1517f20"
      },
      "outputs": [
        {
          "data": {
            "text/plain": [
              "(tensor([[0., 1., 2., 3., 4.],\n",
              "         [5., 6., 7., 8., 9.]]),\n",
              " torch.Size([2, 5]))"
            ]
          },
          "execution_count": 37,
          "metadata": {},
          "output_type": "execute_result"
        }
      ],
      "source": [
        "# change the view\n",
        "z = x.view(2, 5)\n",
        "z, z.shape\n",
        "\n",
        "# changing x -> changes z as they share the same memory"
      ]
    },
    {
      "cell_type": "code",
      "execution_count": 38,
      "metadata": {
        "colab": {
          "base_uri": "https://localhost:8080/"
        },
        "id": "7dpMHuf5vtBE",
        "outputId": "63e6dd4b-32c5-4516-d05c-b5c676df770b"
      },
      "outputs": [
        {
          "data": {
            "text/plain": [
              "(tensor([1., 1., 2., 3., 4., 5., 6., 7., 8., 9.]),\n",
              " tensor([[1., 1., 2., 3., 4.],\n",
              "         [5., 6., 7., 8., 9.]]))"
            ]
          },
          "execution_count": 38,
          "metadata": {},
          "output_type": "execute_result"
        }
      ],
      "source": [
        "z[0][0] = 1\n",
        "x, z"
      ]
    },
    {
      "cell_type": "code",
      "execution_count": 39,
      "metadata": {
        "colab": {
          "base_uri": "https://localhost:8080/"
        },
        "id": "SshZIMzryY_p",
        "outputId": "a1546c90-f1e1-4d20-9cbb-9c8ac0c43b7c"
      },
      "outputs": [
        {
          "data": {
            "text/plain": [
              "(tensor([[1., 1., 2., 3., 4., 5., 6., 7., 8., 9.],\n",
              "         [1., 1., 2., 3., 4., 5., 6., 7., 8., 9.],\n",
              "         [1., 1., 2., 3., 4., 5., 6., 7., 8., 9.],\n",
              "         [1., 1., 2., 3., 4., 5., 6., 7., 8., 9.]]),\n",
              " torch.Size([4, 10]))"
            ]
          },
          "execution_count": 39,
          "metadata": {},
          "output_type": "execute_result"
        }
      ],
      "source": [
        "# stack tensors on top of each other\n",
        "\n",
        "x_stacked = torch.stack([x, x, x, x], dim=0)\n",
        "x_stacked, x_stacked.shape"
      ]
    },
    {
      "cell_type": "code",
      "execution_count": 40,
      "metadata": {
        "colab": {
          "base_uri": "https://localhost:8080/"
        },
        "id": "Mopn7nvJf1ua",
        "outputId": "23783bad-9955-4382-b57a-249857d67cf8"
      },
      "outputs": [
        {
          "data": {
            "text/plain": [
              "tensor([[1., 1., 1., 1.],\n",
              "        [1., 1., 1., 1.],\n",
              "        [2., 2., 2., 2.],\n",
              "        [3., 3., 3., 3.],\n",
              "        [4., 4., 4., 4.],\n",
              "        [5., 5., 5., 5.],\n",
              "        [6., 6., 6., 6.],\n",
              "        [7., 7., 7., 7.],\n",
              "        [8., 8., 8., 8.],\n",
              "        [9., 9., 9., 9.]])"
            ]
          },
          "execution_count": 40,
          "metadata": {},
          "output_type": "execute_result"
        }
      ],
      "source": [
        "x_stacked = torch.stack([x, x, x, x], dim=1)\n",
        "x_stacked\n",
        "\n",
        "\n",
        "# note: vstack --> dim = 0 and hstack --> dim = 1"
      ]
    },
    {
      "cell_type": "code",
      "execution_count": 41,
      "metadata": {
        "colab": {
          "base_uri": "https://localhost:8080/"
        },
        "id": "g6itlRdehx3P",
        "outputId": "0d94546c-0966-4f1b-8b67-a834facb4d18"
      },
      "outputs": [
        {
          "name": "stdout",
          "output_type": "stream",
          "text": [
            "Previous shape: torch.Size([224, 220, 3])\n",
            "New shape: torch.Size([3, 224, 220])\n"
          ]
        }
      ],
      "source": [
        "# permuate method: rearrages the dimension of a target tensor in a specified order\n",
        "\n",
        "x_original = torch.rand(224, 220, 3) # [height, width, color channel]\n",
        "\n",
        "# permuate the original tensor to rearrage the axis (or dim) order\n",
        "x_permuted = x_original.permute(2, 0, 1) # shifts axis 0->1, 1->2, 2->0\n",
        "\n",
        "print(f\"Previous shape: {x_original.shape}\")\n",
        "print(f\"New shape: {x_permuted.shape}\")\n"
      ]
    },
    {
      "cell_type": "markdown",
      "metadata": {
        "id": "l9mIYXqAv0nQ"
      },
      "source": [
        "# TENSOR = DATA + SHAPE + STRIDE\n",
        "\n",
        "A **tensor** in PyTorch isn't just a blob of values. It's a combination of:\n",
        "\n",
        "- `data`: a **contiguous** chunk of memory (1D list of raw values underneath)\n",
        "- `shape`: the dimensions, like `[2, 3, 4]`\n",
        "- `stride`: how many memory steps to jump to reach the next element in each dim\n",
        "\n",
        "> **So technically:**\n",
        "```python\n",
        "Tensor = (data_pointer, shape, stride)\n",
        "```"
      ]
    },
    {
      "cell_type": "code",
      "execution_count": 42,
      "metadata": {
        "colab": {
          "base_uri": "https://localhost:8080/"
        },
        "id": "0izY0UMUjj5I",
        "outputId": "bc8e733a-3917-466b-aeb3-c8286598800c"
      },
      "outputs": [
        {
          "data": {
            "text/plain": [
              "tensor(2002.)"
            ]
          },
          "execution_count": 42,
          "metadata": {},
          "output_type": "execute_result"
        }
      ],
      "source": [
        "x_original[0,0,0] = 2002\n",
        "x_permuted[0,0,0] # changing x_original element -> changes x_permuted element"
      ]
    },
    {
      "cell_type": "markdown",
      "metadata": {
        "id": "52n_oBrUxQwv"
      },
      "source": [
        "## Indexing In Tensors"
      ]
    },
    {
      "cell_type": "code",
      "execution_count": 43,
      "metadata": {
        "colab": {
          "base_uri": "https://localhost:8080/"
        },
        "id": "07ysvUIvxUDz",
        "outputId": "9db18bf1-8f9c-410a-dad1-1c5998d426a9"
      },
      "outputs": [
        {
          "data": {
            "text/plain": [
              "(tensor([[[1, 2, 3],\n",
              "          [4, 5, 6],\n",
              "          [7, 8, 9]]]),\n",
              " torch.Size([1, 3, 3]))"
            ]
          },
          "execution_count": 43,
          "metadata": {},
          "output_type": "execute_result"
        }
      ],
      "source": [
        "# create a tensor\n",
        "x = torch.arange(1, 10).reshape(1, 3, 3)\n",
        "x, x.shape"
      ]
    },
    {
      "cell_type": "code",
      "execution_count": 44,
      "metadata": {
        "colab": {
          "base_uri": "https://localhost:8080/"
        },
        "id": "z7jAmhERx3c2",
        "outputId": "13d08501-441a-443a-b452-52997ddd5bd8"
      },
      "outputs": [
        {
          "data": {
            "text/plain": [
              "tensor([[1, 2, 3],\n",
              "        [4, 5, 6],\n",
              "        [7, 8, 9]])"
            ]
          },
          "execution_count": 44,
          "metadata": {},
          "output_type": "execute_result"
        }
      ],
      "source": [
        "# indexing the above tensor\n",
        "x[0]"
      ]
    },
    {
      "cell_type": "code",
      "execution_count": 45,
      "metadata": {
        "colab": {
          "base_uri": "https://localhost:8080/"
        },
        "id": "Typ6P_P0x6ys",
        "outputId": "982c3a81-2686-459b-d565-2b6ef9133ae7"
      },
      "outputs": [
        {
          "name": "stdout",
          "output_type": "stream",
          "text": [
            "tensor([4, 5, 6]) tensor(6)\n",
            "tensor([[2, 5, 8]])\n"
          ]
        }
      ],
      "source": [
        "print(x[0, 1], x[0, 1, 2])\n",
        "print(x[:, :, 1])"
      ]
    },
    {
      "cell_type": "markdown",
      "metadata": {
        "id": "8Bw1zhYs0QBI"
      },
      "source": [
        "## PyTorch Tensors & NumPy\n",
        "\n",
        "NumPy is a popular scientific Python computing library.\n",
        "And because of this, PyTorch has the functionlity to interact with it.\n",
        "\n",
        "* Data in NumPy, want in PyTorch tensor -> `torch.from_numpy(ndarray)`\n",
        "* PyTorch tensor -> NumPy -> `torch.Tensor.numpy()`"
      ]
    },
    {
      "cell_type": "code",
      "execution_count": 46,
      "metadata": {
        "colab": {
          "base_uri": "https://localhost:8080/"
        },
        "id": "vZBEsmyt05tx",
        "outputId": "d052fc10-bccf-4ac8-cf3a-f5bcdbc1364e"
      },
      "outputs": [
        {
          "data": {
            "text/plain": [
              "(array([1., 2., 3., 4., 5., 6., 7.]),\n",
              " tensor([1., 2., 3., 4., 5., 6., 7.], dtype=torch.float64))"
            ]
          },
          "execution_count": 46,
          "metadata": {},
          "output_type": "execute_result"
        }
      ],
      "source": [
        "# numpy array to tensors\n",
        "array = np.arange(1.0, 8.0)\n",
        "tensor = torch.from_numpy(array)\n",
        "array, tensor\n",
        "\n",
        "# dtype of tensor is float64 because the default dtype of numpy is float64 and both array and tensor are sharing the same memory"
      ]
    },
    {
      "cell_type": "code",
      "execution_count": 47,
      "metadata": {
        "colab": {
          "base_uri": "https://localhost:8080/"
        },
        "id": "Vt4mCPvj2Nj2",
        "outputId": "b9b0014a-97c9-4afd-9fba-998f0b8f427c"
      },
      "outputs": [
        {
          "name": "stdout",
          "output_type": "stream",
          "text": [
            "Old pointer: 126745159904752\n",
            "New Pointer: 126745159899472\n"
          ]
        }
      ],
      "source": [
        "# doing following changes the pointer of 'array'\n",
        "print(f\"Old pointer: {id(array)}\")\n",
        "array = array + 1\n",
        "print(f\"New Pointer: {id(array)}\")\n",
        "\n",
        "# before changing the pointer of 'array'\n",
        "# if you write array[0] = 45 then,\n",
        "# value of tensor changes too"
      ]
    },
    {
      "cell_type": "code",
      "execution_count": 48,
      "metadata": {
        "colab": {
          "base_uri": "https://localhost:8080/"
        },
        "id": "AFMAbXUk5QX0",
        "outputId": "8156db38-e169-44c3-f5a9-87676d4c75d7"
      },
      "outputs": [
        {
          "data": {
            "text/plain": [
              "(tensor([1, 2, 3, 4, 5, 6, 7, 8, 9]), array([1, 2, 3, 4, 5, 6, 7, 8, 9]))"
            ]
          },
          "execution_count": 48,
          "metadata": {},
          "output_type": "execute_result"
        }
      ],
      "source": [
        "# tensor to numpy array\n",
        "tensor = torch.arange(1, 10)\n",
        "numpy_tensor = tensor.numpy()\n",
        "tensor, numpy_tensor"
      ]
    },
    {
      "cell_type": "code",
      "execution_count": 49,
      "metadata": {
        "colab": {
          "base_uri": "https://localhost:8080/"
        },
        "id": "zGlZXJZr67wL",
        "outputId": "9f2543c8-b627-482e-bd46-db18109417b6"
      },
      "outputs": [
        {
          "data": {
            "text/plain": [
              "(dtype('int64'), torch.int64)"
            ]
          },
          "execution_count": 49,
          "metadata": {},
          "output_type": "execute_result"
        }
      ],
      "source": [
        "# reflexs the original dtype\n",
        "numpy_tensor.dtype, tensor.dtype"
      ]
    },
    {
      "cell_type": "code",
      "execution_count": 50,
      "metadata": {
        "colab": {
          "base_uri": "https://localhost:8080/"
        },
        "id": "KdJvJ0Q28csY",
        "outputId": "8fdf5722-a8dd-46d4-d23c-5c30b2629e60"
      },
      "outputs": [
        {
          "data": {
            "text/plain": [
              "array([1, 2, 3, 4, 5, 6, 7, 8, 9])"
            ]
          },
          "execution_count": 50,
          "metadata": {},
          "output_type": "execute_result"
        }
      ],
      "source": [
        "# same thing happens while converting tensor to numpy_tensor\n",
        "tensor = tensor + 1\n",
        "numpy_tensor"
      ]
    },
    {
      "cell_type": "markdown",
      "metadata": {
        "id": "zzSY3EVp_LsA"
      },
      "source": [
        "## Reproducibility (Trying to take random out of ramdom)\n",
        "\n",
        "In short, how neural networks learns:\n",
        "\n",
        "`start with random numbers -> tensor operations -> update random numbers to try and make better representation of the data -> again -> again -> again...`\n",
        "\n",
        "To reduce the randomness in neural network and PyTorch comes the concept of a **random seed**.\n",
        "\n",
        "Essentially, what random seed does is 'flavour' the randomness."
      ]
    },
    {
      "cell_type": "code",
      "execution_count": 51,
      "metadata": {
        "colab": {
          "base_uri": "https://localhost:8080/"
        },
        "id": "fQa_LrY6BcTA",
        "outputId": "af90cbf8-ed91-40c4-9317-9a9adfe90dbf"
      },
      "outputs": [
        {
          "name": "stdout",
          "output_type": "stream",
          "text": [
            "tensor([[0.4237, 0.7527, 0.6500, 0.6751],\n",
            "        [0.5645, 0.9580, 0.2181, 0.1310],\n",
            "        [0.2019, 0.1115, 0.9015, 0.1232]])\n",
            "tensor([[0.5564, 0.8883, 0.2009, 0.6022],\n",
            "        [0.3347, 0.1706, 0.5768, 0.2104],\n",
            "        [0.6720, 0.8145, 0.2730, 0.4460]])\n"
          ]
        }
      ],
      "source": [
        "# create two random tensors\n",
        "random_tensor_A = torch.rand(3, 4)\n",
        "random_tensor_B = torch.rand(3, 4)\n",
        "\n",
        "print(random_tensor_A)\n",
        "print(random_tensor_B)"
      ]
    },
    {
      "cell_type": "code",
      "execution_count": 52,
      "metadata": {
        "colab": {
          "base_uri": "https://localhost:8080/"
        },
        "id": "MTpk0dBQBfV2",
        "outputId": "4ed5d9f6-088c-4d33-a7ef-32b582e719d2"
      },
      "outputs": [
        {
          "name": "stdout",
          "output_type": "stream",
          "text": [
            "tensor([[0.9007, 0.7464, 0.4716, 0.8738],\n",
            "        [0.7403, 0.7840, 0.8946, 0.6238],\n",
            "        [0.4276, 0.8421, 0.7454, 0.6181]])\n",
            "tensor([[0.9007, 0.7464, 0.4716, 0.8738],\n",
            "        [0.7403, 0.7840, 0.8946, 0.6238],\n",
            "        [0.4276, 0.8421, 0.7454, 0.6181]])\n",
            "tensor([[True, True, True, True],\n",
            "        [True, True, True, True],\n",
            "        [True, True, True, True]])\n"
          ]
        }
      ],
      "source": [
        "# let's make some random but reproducible tensor\n",
        "RANDOM_SEED = 30\n",
        "torch.manual_seed(RANDOM_SEED)\n",
        "random_tensor_C = torch.rand(3, 4)\n",
        "\n",
        "torch.manual_seed(RANDOM_SEED)\n",
        "random_tensor_D = torch.rand(3, 4)\n",
        "\n",
        "print(random_tensor_C)\n",
        "print(random_tensor_D)\n",
        "print(random_tensor_C == random_tensor_D)"
      ]
    },
    {
      "cell_type": "markdown",
      "metadata": {
        "id": "3-GxJfEYE9nK"
      },
      "source": [
        "## Putting Tensors (and models) on GPU\n",
        "\n",
        "The reason we want our tensors/models on the GPU is because using a GPU results in faster computation."
      ]
    },
    {
      "cell_type": "code",
      "execution_count": 53,
      "metadata": {
        "colab": {
          "base_uri": "https://localhost:8080/"
        },
        "id": "CF3jq4Gc6QY8",
        "outputId": "4497b7a3-9159-40c5-fa18-f0f2688a41de"
      },
      "outputs": [
        {
          "name": "stdout",
          "output_type": "stream",
          "text": [
            "tensor([1, 2, 3]) cpu\n"
          ]
        }
      ],
      "source": [
        "# create a tensor (default on CPU)\n",
        "\n",
        "tensor = torch.tensor([1,2,3])\n",
        "\n",
        "print(tensor, tensor.device)"
      ]
    },
    {
      "cell_type": "code",
      "execution_count": 54,
      "metadata": {
        "colab": {
          "base_uri": "https://localhost:8080/"
        },
        "id": "gjnU3sSO6nYG",
        "outputId": "69ff9869-5cae-438f-cd2c-bdbc3933bbb7"
      },
      "outputs": [
        {
          "data": {
            "text/plain": [
              "tensor([1, 2, 3], device='cuda:0')"
            ]
          },
          "execution_count": 54,
          "metadata": {},
          "output_type": "execute_result"
        }
      ],
      "source": [
        "# move tensor to GPU (if available)\n",
        "\n",
        "device = \"cuda\" if torch.cuda.is_available() else \"cpu\"\n",
        "\n",
        "tensor_to_cuda = tensor.to(device)\n",
        "tensor_to_cuda"
      ]
    },
    {
      "cell_type": "markdown",
      "metadata": {
        "id": "8BvVHyss_hi_"
      },
      "source": [
        "## Moving Tensors Back To GPU\n",
        "\n",
        "If tensors on GPU, can't transform it to NumPy"
      ]
    },
    {
      "cell_type": "code",
      "execution_count": 55,
      "metadata": {
        "colab": {
          "base_uri": "https://localhost:8080/"
        },
        "id": "8rKmRtW3_quQ",
        "outputId": "056751e0-64cc-426a-e8bc-8e702ca3ff96"
      },
      "outputs": [
        {
          "data": {
            "text/plain": [
              "array([1, 2, 3])"
            ]
          },
          "execution_count": 55,
          "metadata": {},
          "output_type": "execute_result"
        }
      ],
      "source": [
        "converted_numpy_tensor = tensor.cpu().numpy()\n",
        "converted_numpy_tensor"
      ]
    }
  ],
  "metadata": {
    "accelerator": "GPU",
    "colab": {
      "gpuType": "T4",
      "provenance": []
    },
    "kernelspec": {
      "display_name": "myenv",
      "language": "python",
      "name": "python3"
    },
    "language_info": {
      "codemirror_mode": {
        "name": "ipython",
        "version": 3
      },
      "file_extension": ".py",
      "mimetype": "text/x-python",
      "name": "python",
      "nbconvert_exporter": "python",
      "pygments_lexer": "ipython3",
      "version": "3.12.3"
    }
  },
  "nbformat": 4,
  "nbformat_minor": 0
}
